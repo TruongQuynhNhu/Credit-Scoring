{
  "nbformat": 4,
  "nbformat_minor": 0,
  "metadata": {
    "colab": {
      "provenance": []
    },
    "kernelspec": {
      "name": "python3",
      "display_name": "Python 3"
    },
    "language_info": {
      "name": "python"
    }
  },
  "cells": [
    {
      "cell_type": "code",
      "source": [
        "import matplotlib.pyplot as plt\n",
        "import seaborn as sns\n",
        "import pandas as pd\n",
        "import numpy as np\n",
        "from sklearn.model_selection import train_test_split"
      ],
      "metadata": {
        "id": "IA-DSJkdc6yl"
      },
      "execution_count": 40,
      "outputs": []
    },
    {
      "cell_type": "markdown",
      "source": [
        "# Data Understanding\n",
        "\n",
        "- Data có là bảng `hw3_f_customer_metainfo.csv`\n",
        "\n",
        "Bài toán nhằm mục đích xây dựng mô hình phân loại nhãn tín dụng của khách hàng (biến `credit_label` có 2 giá trị là **Good**, **Bad**)\n"
      ],
      "metadata": {
        "id": "qFhk1m7FjjkF"
      }
    },
    {
      "cell_type": "code",
      "execution_count": 17,
      "metadata": {
        "colab": {
          "base_uri": "https://localhost:8080/",
          "height": 331
        },
        "id": "G-kuQnnejXQO",
        "outputId": "e7e3a9b3-3efc-4219-ebff-68be9449f46d"
      },
      "outputs": [
        {
          "output_type": "execute_result",
          "data": {
            "text/plain": [
              "   customer_id credit_label  member_id       full_name gender date_of_birth  \\\n",
              "0        50419         Good      50419  Võ Thành H***g     Nữ    1998-12-23   \n",
              "1          458         Good        458   Mạc Hồng H**h     Nữ    2001-04-15   \n",
              "2        20532         Good      20532  Sơn Thành L**h     Nữ    1995-12-25   \n",
              "\n",
              "                                             address        city   country  \\\n",
              "0  1614/76/69/34/259, Đường Số 10, Phường Linh Tâ...    Đồng Nai  Việt Nam   \n",
              "1  760/45/196h, Đường Võ Văn C, Phường 6, Quận 11...      Hà Nội  Việt Nam   \n",
              "2  962/74/78/106, Cách Mạng Tháng Tám, Phường An ...  Bình Dương  Việt Nam   \n",
              "\n",
              "           phone_number  ... total_tax_amount            income_source  \\\n",
              "0  001-840-870-5465x539  ...          7665000        Kinh doanh online   \n",
              "1          674-533-3993  ...          9071000  Kinh doanh truyền thống   \n",
              "2          841-221-6697  ...          7921000                   Đầu tư   \n",
              "\n",
              "  annually_income_segment monthly_income total_property_value  \\\n",
              "0               Trên 3 tỷ      900000000           1100000000   \n",
              "1               Trên 3 tỷ      615000000            400000000   \n",
              "2          Dưới 300 triệu      646000000            300000000   \n",
              "\n",
              "         top_property_type in_debt monthly_bill_amount  \\\n",
              "0              Nhà ở chính      Có            43300000   \n",
              "1  Bất động sản thương mại      Có            31600000   \n",
              "2                  Đất đai      Có            49800000   \n",
              "\n",
              "   total_annual_bill_amount  num_bill_overdue  \n",
              "0                 555240000                13  \n",
              "1                 289176000                14  \n",
              "2                 243228000                 8  \n",
              "\n",
              "[3 rows x 67 columns]"
            ],
            "text/html": [
              "\n",
              "  <div id=\"df-237bfcf0-7bd2-41d6-844f-850f2f6981cc\" class=\"colab-df-container\">\n",
              "    <div>\n",
              "<style scoped>\n",
              "    .dataframe tbody tr th:only-of-type {\n",
              "        vertical-align: middle;\n",
              "    }\n",
              "\n",
              "    .dataframe tbody tr th {\n",
              "        vertical-align: top;\n",
              "    }\n",
              "\n",
              "    .dataframe thead th {\n",
              "        text-align: right;\n",
              "    }\n",
              "</style>\n",
              "<table border=\"1\" class=\"dataframe\">\n",
              "  <thead>\n",
              "    <tr style=\"text-align: right;\">\n",
              "      <th></th>\n",
              "      <th>customer_id</th>\n",
              "      <th>credit_label</th>\n",
              "      <th>member_id</th>\n",
              "      <th>full_name</th>\n",
              "      <th>gender</th>\n",
              "      <th>date_of_birth</th>\n",
              "      <th>address</th>\n",
              "      <th>city</th>\n",
              "      <th>country</th>\n",
              "      <th>phone_number</th>\n",
              "      <th>...</th>\n",
              "      <th>total_tax_amount</th>\n",
              "      <th>income_source</th>\n",
              "      <th>annually_income_segment</th>\n",
              "      <th>monthly_income</th>\n",
              "      <th>total_property_value</th>\n",
              "      <th>top_property_type</th>\n",
              "      <th>in_debt</th>\n",
              "      <th>monthly_bill_amount</th>\n",
              "      <th>total_annual_bill_amount</th>\n",
              "      <th>num_bill_overdue</th>\n",
              "    </tr>\n",
              "  </thead>\n",
              "  <tbody>\n",
              "    <tr>\n",
              "      <th>0</th>\n",
              "      <td>50419</td>\n",
              "      <td>Good</td>\n",
              "      <td>50419</td>\n",
              "      <td>Võ Thành H***g</td>\n",
              "      <td>Nữ</td>\n",
              "      <td>1998-12-23</td>\n",
              "      <td>1614/76/69/34/259, Đường Số 10, Phường Linh Tâ...</td>\n",
              "      <td>Đồng Nai</td>\n",
              "      <td>Việt Nam</td>\n",
              "      <td>001-840-870-5465x539</td>\n",
              "      <td>...</td>\n",
              "      <td>7665000</td>\n",
              "      <td>Kinh doanh online</td>\n",
              "      <td>Trên 3 tỷ</td>\n",
              "      <td>900000000</td>\n",
              "      <td>1100000000</td>\n",
              "      <td>Nhà ở chính</td>\n",
              "      <td>Có</td>\n",
              "      <td>43300000</td>\n",
              "      <td>555240000</td>\n",
              "      <td>13</td>\n",
              "    </tr>\n",
              "    <tr>\n",
              "      <th>1</th>\n",
              "      <td>458</td>\n",
              "      <td>Good</td>\n",
              "      <td>458</td>\n",
              "      <td>Mạc Hồng H**h</td>\n",
              "      <td>Nữ</td>\n",
              "      <td>2001-04-15</td>\n",
              "      <td>760/45/196h, Đường Võ Văn C, Phường 6, Quận 11...</td>\n",
              "      <td>Hà Nội</td>\n",
              "      <td>Việt Nam</td>\n",
              "      <td>674-533-3993</td>\n",
              "      <td>...</td>\n",
              "      <td>9071000</td>\n",
              "      <td>Kinh doanh truyền thống</td>\n",
              "      <td>Trên 3 tỷ</td>\n",
              "      <td>615000000</td>\n",
              "      <td>400000000</td>\n",
              "      <td>Bất động sản thương mại</td>\n",
              "      <td>Có</td>\n",
              "      <td>31600000</td>\n",
              "      <td>289176000</td>\n",
              "      <td>14</td>\n",
              "    </tr>\n",
              "    <tr>\n",
              "      <th>2</th>\n",
              "      <td>20532</td>\n",
              "      <td>Good</td>\n",
              "      <td>20532</td>\n",
              "      <td>Sơn Thành L**h</td>\n",
              "      <td>Nữ</td>\n",
              "      <td>1995-12-25</td>\n",
              "      <td>962/74/78/106, Cách Mạng Tháng Tám, Phường An ...</td>\n",
              "      <td>Bình Dương</td>\n",
              "      <td>Việt Nam</td>\n",
              "      <td>841-221-6697</td>\n",
              "      <td>...</td>\n",
              "      <td>7921000</td>\n",
              "      <td>Đầu tư</td>\n",
              "      <td>Dưới 300 triệu</td>\n",
              "      <td>646000000</td>\n",
              "      <td>300000000</td>\n",
              "      <td>Đất đai</td>\n",
              "      <td>Có</td>\n",
              "      <td>49800000</td>\n",
              "      <td>243228000</td>\n",
              "      <td>8</td>\n",
              "    </tr>\n",
              "  </tbody>\n",
              "</table>\n",
              "<p>3 rows × 67 columns</p>\n",
              "</div>\n",
              "    <div class=\"colab-df-buttons\">\n",
              "\n",
              "  <div class=\"colab-df-container\">\n",
              "    <button class=\"colab-df-convert\" onclick=\"convertToInteractive('df-237bfcf0-7bd2-41d6-844f-850f2f6981cc')\"\n",
              "            title=\"Convert this dataframe to an interactive table.\"\n",
              "            style=\"display:none;\">\n",
              "\n",
              "  <svg xmlns=\"http://www.w3.org/2000/svg\" height=\"24px\" viewBox=\"0 -960 960 960\">\n",
              "    <path d=\"M120-120v-720h720v720H120Zm60-500h600v-160H180v160Zm220 220h160v-160H400v160Zm0 220h160v-160H400v160ZM180-400h160v-160H180v160Zm440 0h160v-160H620v160ZM180-180h160v-160H180v160Zm440 0h160v-160H620v160Z\"/>\n",
              "  </svg>\n",
              "    </button>\n",
              "\n",
              "  <style>\n",
              "    .colab-df-container {\n",
              "      display:flex;\n",
              "      gap: 12px;\n",
              "    }\n",
              "\n",
              "    .colab-df-convert {\n",
              "      background-color: #E8F0FE;\n",
              "      border: none;\n",
              "      border-radius: 50%;\n",
              "      cursor: pointer;\n",
              "      display: none;\n",
              "      fill: #1967D2;\n",
              "      height: 32px;\n",
              "      padding: 0 0 0 0;\n",
              "      width: 32px;\n",
              "    }\n",
              "\n",
              "    .colab-df-convert:hover {\n",
              "      background-color: #E2EBFA;\n",
              "      box-shadow: 0px 1px 2px rgba(60, 64, 67, 0.3), 0px 1px 3px 1px rgba(60, 64, 67, 0.15);\n",
              "      fill: #174EA6;\n",
              "    }\n",
              "\n",
              "    .colab-df-buttons div {\n",
              "      margin-bottom: 4px;\n",
              "    }\n",
              "\n",
              "    [theme=dark] .colab-df-convert {\n",
              "      background-color: #3B4455;\n",
              "      fill: #D2E3FC;\n",
              "    }\n",
              "\n",
              "    [theme=dark] .colab-df-convert:hover {\n",
              "      background-color: #434B5C;\n",
              "      box-shadow: 0px 1px 3px 1px rgba(0, 0, 0, 0.15);\n",
              "      filter: drop-shadow(0px 1px 2px rgba(0, 0, 0, 0.3));\n",
              "      fill: #FFFFFF;\n",
              "    }\n",
              "  </style>\n",
              "\n",
              "    <script>\n",
              "      const buttonEl =\n",
              "        document.querySelector('#df-237bfcf0-7bd2-41d6-844f-850f2f6981cc button.colab-df-convert');\n",
              "      buttonEl.style.display =\n",
              "        google.colab.kernel.accessAllowed ? 'block' : 'none';\n",
              "\n",
              "      async function convertToInteractive(key) {\n",
              "        const element = document.querySelector('#df-237bfcf0-7bd2-41d6-844f-850f2f6981cc');\n",
              "        const dataTable =\n",
              "          await google.colab.kernel.invokeFunction('convertToInteractive',\n",
              "                                                    [key], {});\n",
              "        if (!dataTable) return;\n",
              "\n",
              "        const docLinkHtml = 'Like what you see? Visit the ' +\n",
              "          '<a target=\"_blank\" href=https://colab.research.google.com/notebooks/data_table.ipynb>data table notebook</a>'\n",
              "          + ' to learn more about interactive tables.';\n",
              "        element.innerHTML = '';\n",
              "        dataTable['output_type'] = 'display_data';\n",
              "        await google.colab.output.renderOutput(dataTable, element);\n",
              "        const docLink = document.createElement('div');\n",
              "        docLink.innerHTML = docLinkHtml;\n",
              "        element.appendChild(docLink);\n",
              "      }\n",
              "    </script>\n",
              "  </div>\n",
              "\n",
              "\n",
              "<div id=\"df-647c68a6-9141-4559-8a4a-907e3c98975c\">\n",
              "  <button class=\"colab-df-quickchart\" onclick=\"quickchart('df-647c68a6-9141-4559-8a4a-907e3c98975c')\"\n",
              "            title=\"Suggest charts\"\n",
              "            style=\"display:none;\">\n",
              "\n",
              "<svg xmlns=\"http://www.w3.org/2000/svg\" height=\"24px\"viewBox=\"0 0 24 24\"\n",
              "     width=\"24px\">\n",
              "    <g>\n",
              "        <path d=\"M19 3H5c-1.1 0-2 .9-2 2v14c0 1.1.9 2 2 2h14c1.1 0 2-.9 2-2V5c0-1.1-.9-2-2-2zM9 17H7v-7h2v7zm4 0h-2V7h2v10zm4 0h-2v-4h2v4z\"/>\n",
              "    </g>\n",
              "</svg>\n",
              "  </button>\n",
              "\n",
              "<style>\n",
              "  .colab-df-quickchart {\n",
              "      --bg-color: #E8F0FE;\n",
              "      --fill-color: #1967D2;\n",
              "      --hover-bg-color: #E2EBFA;\n",
              "      --hover-fill-color: #174EA6;\n",
              "      --disabled-fill-color: #AAA;\n",
              "      --disabled-bg-color: #DDD;\n",
              "  }\n",
              "\n",
              "  [theme=dark] .colab-df-quickchart {\n",
              "      --bg-color: #3B4455;\n",
              "      --fill-color: #D2E3FC;\n",
              "      --hover-bg-color: #434B5C;\n",
              "      --hover-fill-color: #FFFFFF;\n",
              "      --disabled-bg-color: #3B4455;\n",
              "      --disabled-fill-color: #666;\n",
              "  }\n",
              "\n",
              "  .colab-df-quickchart {\n",
              "    background-color: var(--bg-color);\n",
              "    border: none;\n",
              "    border-radius: 50%;\n",
              "    cursor: pointer;\n",
              "    display: none;\n",
              "    fill: var(--fill-color);\n",
              "    height: 32px;\n",
              "    padding: 0;\n",
              "    width: 32px;\n",
              "  }\n",
              "\n",
              "  .colab-df-quickchart:hover {\n",
              "    background-color: var(--hover-bg-color);\n",
              "    box-shadow: 0 1px 2px rgba(60, 64, 67, 0.3), 0 1px 3px 1px rgba(60, 64, 67, 0.15);\n",
              "    fill: var(--button-hover-fill-color);\n",
              "  }\n",
              "\n",
              "  .colab-df-quickchart-complete:disabled,\n",
              "  .colab-df-quickchart-complete:disabled:hover {\n",
              "    background-color: var(--disabled-bg-color);\n",
              "    fill: var(--disabled-fill-color);\n",
              "    box-shadow: none;\n",
              "  }\n",
              "\n",
              "  .colab-df-spinner {\n",
              "    border: 2px solid var(--fill-color);\n",
              "    border-color: transparent;\n",
              "    border-bottom-color: var(--fill-color);\n",
              "    animation:\n",
              "      spin 1s steps(1) infinite;\n",
              "  }\n",
              "\n",
              "  @keyframes spin {\n",
              "    0% {\n",
              "      border-color: transparent;\n",
              "      border-bottom-color: var(--fill-color);\n",
              "      border-left-color: var(--fill-color);\n",
              "    }\n",
              "    20% {\n",
              "      border-color: transparent;\n",
              "      border-left-color: var(--fill-color);\n",
              "      border-top-color: var(--fill-color);\n",
              "    }\n",
              "    30% {\n",
              "      border-color: transparent;\n",
              "      border-left-color: var(--fill-color);\n",
              "      border-top-color: var(--fill-color);\n",
              "      border-right-color: var(--fill-color);\n",
              "    }\n",
              "    40% {\n",
              "      border-color: transparent;\n",
              "      border-right-color: var(--fill-color);\n",
              "      border-top-color: var(--fill-color);\n",
              "    }\n",
              "    60% {\n",
              "      border-color: transparent;\n",
              "      border-right-color: var(--fill-color);\n",
              "    }\n",
              "    80% {\n",
              "      border-color: transparent;\n",
              "      border-right-color: var(--fill-color);\n",
              "      border-bottom-color: var(--fill-color);\n",
              "    }\n",
              "    90% {\n",
              "      border-color: transparent;\n",
              "      border-bottom-color: var(--fill-color);\n",
              "    }\n",
              "  }\n",
              "</style>\n",
              "\n",
              "  <script>\n",
              "    async function quickchart(key) {\n",
              "      const quickchartButtonEl =\n",
              "        document.querySelector('#' + key + ' button');\n",
              "      quickchartButtonEl.disabled = true;  // To prevent multiple clicks.\n",
              "      quickchartButtonEl.classList.add('colab-df-spinner');\n",
              "      try {\n",
              "        const charts = await google.colab.kernel.invokeFunction(\n",
              "            'suggestCharts', [key], {});\n",
              "      } catch (error) {\n",
              "        console.error('Error during call to suggestCharts:', error);\n",
              "      }\n",
              "      quickchartButtonEl.classList.remove('colab-df-spinner');\n",
              "      quickchartButtonEl.classList.add('colab-df-quickchart-complete');\n",
              "    }\n",
              "    (() => {\n",
              "      let quickchartButtonEl =\n",
              "        document.querySelector('#df-647c68a6-9141-4559-8a4a-907e3c98975c button');\n",
              "      quickchartButtonEl.style.display =\n",
              "        google.colab.kernel.accessAllowed ? 'block' : 'none';\n",
              "    })();\n",
              "  </script>\n",
              "</div>\n",
              "\n",
              "    </div>\n",
              "  </div>\n"
            ],
            "application/vnd.google.colaboratory.intrinsic+json": {
              "type": "dataframe",
              "variable_name": "df"
            }
          },
          "metadata": {},
          "execution_count": 17
        }
      ],
      "source": [
        "import pandas as pd\n",
        "\n",
        "df = pd.read_csv('./data/hw3_f_customer_metainfo.csv', index_col=0)\n",
        "df.head(3)"
      ]
    },
    {
      "cell_type": "code",
      "source": [
        "df.info()"
      ],
      "metadata": {
        "colab": {
          "base_uri": "https://localhost:8080/"
        },
        "id": "ywdqx7O0lk_3",
        "outputId": "99663fc1-5d16-4fd8-962d-c35c27423021"
      },
      "execution_count": 18,
      "outputs": [
        {
          "output_type": "stream",
          "name": "stdout",
          "text": [
            "<class 'pandas.core.frame.DataFrame'>\n",
            "Int64Index: 5000 entries, 0 to 4999\n",
            "Data columns (total 67 columns):\n",
            " #   Column                             Non-Null Count  Dtype  \n",
            "---  ------                             --------------  -----  \n",
            " 0   customer_id                        5000 non-null   int64  \n",
            " 1   credit_label                       5000 non-null   object \n",
            " 2   member_id                          5000 non-null   int64  \n",
            " 3   full_name                          5000 non-null   object \n",
            " 4   gender                             5000 non-null   object \n",
            " 5   date_of_birth                      5000 non-null   object \n",
            " 6   address                            5000 non-null   object \n",
            " 7   city                               5000 non-null   object \n",
            " 8   country                            5000 non-null   object \n",
            " 9   phone_number                       5000 non-null   object \n",
            " 10  email                              5000 non-null   object \n",
            " 11  occupation                         5000 non-null   object \n",
            " 12  education                          5000 non-null   object \n",
            " 13  marital_status                     5000 non-null   object \n",
            " 14  membership_level                   5000 non-null   object \n",
            " 15  join_date                          5000 non-null   object \n",
            " 16  expiry_date                        497 non-null    object \n",
            " 17  membership_status                  5000 non-null   object \n",
            " 18  customer_points                    5000 non-null   int64  \n",
            " 19  total_redeemed_points              5000 non-null   int64  \n",
            " 20  discount_rate                      5000 non-null   float64\n",
            " 21  referral_code                      5000 non-null   object \n",
            " 22  age                                5000 non-null   int64  \n",
            " 23  membership_lifespan                5000 non-null   int64  \n",
            " 24  num_day_since_last_active          5000 non-null   int64  \n",
            " 25  num_active_last_7d                 5000 non-null   int64  \n",
            " 26  num_active_last_14d                5000 non-null   int64  \n",
            " 27  num_active_last_30d                5000 non-null   int64  \n",
            " 28  signup_in_latenight                5000 non-null   bool   \n",
            " 29  most_active_hour                   5000 non-null   int64  \n",
            " 30  num_apply_lending                  5000 non-null   int64  \n",
            " 31  num_reject_lending_by_3pt          5000 non-null   int64  \n",
            " 32  total_amount_spent                 5000 non-null   int64  \n",
            " 33  total_amount_spent_last_30d        5000 non-null   int64  \n",
            " 34  total_amount_spent_last_60d        5000 non-null   int64  \n",
            " 35  total_amount_spent_last_90d        5000 non-null   int64  \n",
            " 36  total_amount_spent_last_180d       5000 non-null   int64  \n",
            " 37  total_amount_spent_last_365d       5000 non-null   int64  \n",
            " 38  total_tax_amount_spent             5000 non-null   int64  \n",
            " 39  total_fee_amount_spent             5000 non-null   int64  \n",
            " 40  num_completed_txn                  5000 non-null   int64  \n",
            " 41  num_canceled_txn                   5000 non-null   int64  \n",
            " 42  num_reject_txn                     5000 non-null   int64  \n",
            " 43  pct_reject2total_txn               5000 non-null   float64\n",
            " 44  top_rejected_reason                5000 non-null   object \n",
            " 45  num_refunded_txn                   5000 non-null   int64  \n",
            " 46  top_refunded_reason                5000 non-null   object \n",
            " 47  top_payment_method                 5000 non-null   object \n",
            " 48  top_payment_channel                5000 non-null   object \n",
            " 49  is_ordering_shipping_address_same  5000 non-null   bool   \n",
            " 50  prob_abuse_promotion               5000 non-null   float64\n",
            " 51  num_used_promotion                 5000 non-null   int64  \n",
            " 52  prob_abnormal_activity             5000 non-null   float64\n",
            " 53  num_select_promotion               5000 non-null   int64  \n",
            " 54  num_interest_products              5000 non-null   int64  \n",
            " 55  income_spending_ratio              5000 non-null   float64\n",
            " 56  income_stability                   5000 non-null   object \n",
            " 57  total_tax_amount                   5000 non-null   int64  \n",
            " 58  income_source                      5000 non-null   object \n",
            " 59  annually_income_segment            5000 non-null   object \n",
            " 60  monthly_income                     5000 non-null   int64  \n",
            " 61  total_property_value               5000 non-null   int64  \n",
            " 62  top_property_type                  5000 non-null   object \n",
            " 63  in_debt                            5000 non-null   object \n",
            " 64  monthly_bill_amount                5000 non-null   int64  \n",
            " 65  total_annual_bill_amount           5000 non-null   int64  \n",
            " 66  num_bill_overdue                   5000 non-null   int64  \n",
            "dtypes: bool(2), float64(5), int64(34), object(26)\n",
            "memory usage: 2.5+ MB\n"
          ]
        }
      ]
    },
    {
      "cell_type": "markdown",
      "source": [
        "Bộ dữ liệu 5000 quan sát và 67 cột."
      ],
      "metadata": {
        "id": "uNAlsUsyfeEl"
      }
    },
    {
      "cell_type": "code",
      "source": [
        "label_counts = df[\"credit_label\"].value_counts()\n",
        "label_counts"
      ],
      "metadata": {
        "id": "5cKzwHZ8mMvn",
        "colab": {
          "base_uri": "https://localhost:8080/"
        },
        "outputId": "376d119e-4034-408e-d4b2-00037a0d39f6"
      },
      "execution_count": 19,
      "outputs": [
        {
          "output_type": "execute_result",
          "data": {
            "text/plain": [
              "Good    4769\n",
              "Bad      231\n",
              "Name: credit_label, dtype: int64"
            ]
          },
          "metadata": {},
          "execution_count": 19
        }
      ]
    },
    {
      "cell_type": "code",
      "source": [
        "labels = label_counts.index.to_list()\n",
        "sizes = label_counts.to_list()\n",
        "plt.pie(sizes, labels = labels, autopct='%1.1f%%');"
      ],
      "metadata": {
        "colab": {
          "base_uri": "https://localhost:8080/",
          "height": 406
        },
        "id": "HxNcn5PDcoMB",
        "outputId": "4de193c9-6bf7-4c30-ec2c-57075fe91c97"
      },
      "execution_count": 20,
      "outputs": [
        {
          "output_type": "display_data",
          "data": {
            "text/plain": [
              "<Figure size 640x480 with 1 Axes>"
            ],
            "image/png": "[encoded data removed]"
          },
          "metadata": {}
        }
      ]
    },
    {
      "cell_type": "markdown",
      "source": [
        "=> Bộ dữ liệu có sự bất cân bằng giữa hai phân nhóm ta cần phân loại là **Good** và **Bad**"
      ],
      "metadata": {
        "id": "V2FjMDWwe4gM"
      }
    },
    {
      "cell_type": "markdown",
      "source": [
        "## Nhóm dữ liệu định danh khách hàng"
      ],
      "metadata": {
        "id": "0kDix7JjiNXN"
      }
    },
    {
      "cell_type": "code",
      "source": [
        "customer_info_cols = ['customer_id','full_name', 'gender', 'date_of_birth', 'age' 'address',\n",
        "                      'city', 'country', 'phone_number', 'email', 'occupation',\n",
        "                      'education', 'marital_status']"
      ],
      "metadata": {
        "id": "ytR_P28jjLpN"
      },
      "execution_count": 21,
      "outputs": []
    },
    {
      "cell_type": "code",
      "source": [
        "df['gender'].value_counts()"
      ],
      "metadata": {
        "colab": {
          "base_uri": "https://localhost:8080/"
        },
        "id": "bcvoK_riuFqW",
        "outputId": "fe65a0f3-2594-4da6-d2d2-5797f007f6d4"
      },
      "execution_count": 22,
      "outputs": [
        {
          "output_type": "execute_result",
          "data": {
            "text/plain": [
              "Nữ      2469\n",
              "Nam     2441\n",
              "Khác      90\n",
              "Name: gender, dtype: int64"
            ]
          },
          "metadata": {},
          "execution_count": 22
        }
      ]
    },
    {
      "cell_type": "code",
      "source": [
        "sns.histplot(df['age']);"
      ],
      "metadata": {
        "colab": {
          "base_uri": "https://localhost:8080/",
          "height": 449
        },
        "id": "xXLbTRDFucgW",
        "outputId": "c44a8813-8d38-4076-9878-258467353d6d"
      },
      "execution_count": 23,
      "outputs": [
        {
          "output_type": "display_data",
          "data": {
            "text/plain": [
              "<Figure size 640x480 with 1 Axes>"
            ],
            "image/png": "[encoded data removed]"
          },
          "metadata": {}
        }
      ]
    },
    {
      "cell_type": "markdown",
      "source": [
        "==> Khách hàng tập trung chủ yếu ở khoảng tầm 18 - 35 tuổi, khách hàng trên 45 tuổi rất ít"
      ],
      "metadata": {
        "id": "FcXhx_25u9iO"
      }
    },
    {
      "cell_type": "code",
      "source": [
        "df['city'].value_counts()"
      ],
      "metadata": {
        "colab": {
          "base_uri": "https://localhost:8080/"
        },
        "id": "EWjxaTTTvmLG",
        "outputId": "b1cd1e6b-e079-4428-e340-c65fe5b632e7"
      },
      "execution_count": 24,
      "outputs": [
        {
          "output_type": "execute_result",
          "data": {
            "text/plain": [
              "Hà Nội            878\n",
              "Hồ Chí Minh       868\n",
              "Đà Nẵng           400\n",
              "Bình Dương        377\n",
              "Cần Thơ           340\n",
              "                 ... \n",
              "Thừa Thiên Huế     19\n",
              "Lai Châu           19\n",
              "Kon Tum            18\n",
              "Tuyên Quang        17\n",
              "Hải Dương          14\n",
              "Name: city, Length: 62, dtype: int64"
            ]
          },
          "metadata": {},
          "execution_count": 24
        }
      ]
    },
    {
      "cell_type": "markdown",
      "source": [],
      "metadata": {
        "id": "_elIfYOGzxA-"
      }
    },
    {
      "cell_type": "code",
      "source": [
        "fig, axes = plt.subplots(1,4, figsize=(15, 10))\n",
        "l = ['city', 'occupation', 'education', 'marital_status']\n",
        "for i in range(4):\n",
        "  sns.barplot(df[l[i]].value_counts().head(10), orient=\"y\", ax=axes[i])\n"
      ],
      "metadata": {
        "colab": {
          "base_uri": "https://localhost:8080/",
          "height": 850
        },
        "id": "BAxOiA-RSnua",
        "outputId": "4b59cd14-b99a-40b9-b9ad-f802c129c5f4"
      },
      "execution_count": 25,
      "outputs": [
        {
          "output_type": "display_data",
          "data": {
            "text/plain": [
              "<Figure size 1500x1000 with 4 Axes>"
            ],
            "image/png": "[encoded data removed]"
          },
          "metadata": {}
        }
      ]
    },
    {
      "cell_type": "markdown",
      "source": [
        "- Biểu đồ thể hiện top 10 tỉnh/ thành phố có số lượng khách hàng theo thứ tự giảm dần cho thấy Khách hàng tập trung chủ yếu ở các thành phố lớn, đông nhất là **Hà Nội**, **TPHCM**.\n",
        "- Khách hàng trong độ tuổi 18- 35 tuổi chiếm tỉ trọng cao, tương ứng với trình độ học vấn đang đi làm hoặc đang đi học đại học cũng chiếm tỉ lệ cao."
      ],
      "metadata": {
        "id": "CdLIymZ6wlc-"
      }
    },
    {
      "cell_type": "markdown",
      "source": [
        "## Nhóm dữ liệu thông tin thành viên\n",
        "\n",
        "Gồm các cột: `'member_id', 'membership_level',\n",
        "       'join_date', 'expiry_date', 'membership_status', 'customer_points',\n",
        "       'total_redeemed_points', 'discount_rate', 'referral_code', 'age',\n",
        "       'membership_lifespan', 'num_day_since_last_active',\n",
        "       'num_active_last_7d', 'num_active_last_14d', 'num_active_last_30d',\n",
        "       'signup_in_latenight', 'most_active_hour', 'num_apply_lending',\n",
        "       'num_reject_lending_by_3pt'`\n",
        "\n",
        "Cột `expiry_date` có giá trị NaN. Nếu thành viên còn active (`membershio_status` = `Active`), thì expiry_date là NaN, còn nếu tài khoản thành viên đã quá hạn (`membershio_status` = `Expired`), thì sẽ có giá trị expiry_date."
      ],
      "metadata": {
        "id": "3t_-vYXcpyMl"
      }
    },
    {
      "cell_type": "code",
      "source": [
        "df[['member_id', 'membership_level', 'join_date', 'expiry_date', 'membership_status', 'membership_lifespan']].head(5)"
      ],
      "metadata": {
        "colab": {
          "base_uri": "https://localhost:8080/",
          "height": 206
        },
        "id": "9cNcYKAB7osX",
        "outputId": "60a8ae20-4e43-456d-b1f7-152c2ede729b"
      },
      "execution_count": 26,
      "outputs": [
        {
          "output_type": "execute_result",
          "data": {
            "text/plain": [
              "   member_id membership_level   join_date expiry_date membership_status  \\\n",
              "0      50419              VIP  2015-07-24         NaN            Active   \n",
              "1        458              VIP  2018-05-30         NaN            Active   \n",
              "2      20532              VIP  2018-12-25         NaN            Active   \n",
              "3      11655              VIP  2022-04-11         NaN            Active   \n",
              "4      43585              VIP  2015-12-12         NaN            Active   \n",
              "\n",
              "   membership_lifespan  \n",
              "0                  837  \n",
              "1                  311  \n",
              "2                  849  \n",
              "3                  821  \n",
              "4                  527  "
            ],
            "text/html": [
              "\n",
              "  <div id=\"df-2d29934a-0aa6-45c0-b15b-2f4bee2bc0b5\" class=\"colab-df-container\">\n",
              "    <div>\n",
              "<style scoped>\n",
              "    .dataframe tbody tr th:only-of-type {\n",
              "        vertical-align: middle;\n",
              "    }\n",
              "\n",
              "    .dataframe tbody tr th {\n",
              "        vertical-align: top;\n",
              "    }\n",
              "\n",
              "    .dataframe thead th {\n",
              "        text-align: right;\n",
              "    }\n",
              "</style>\n",
              "<table border=\"1\" class=\"dataframe\">\n",
              "  <thead>\n",
              "    <tr style=\"text-align: right;\">\n",
              "      <th></th>\n",
              "      <th>member_id</th>\n",
              "      <th>membership_level</th>\n",
              "      <th>join_date</th>\n",
              "      <th>expiry_date</th>\n",
              "      <th>membership_status</th>\n",
              "      <th>membership_lifespan</th>\n",
              "    </tr>\n",
              "  </thead>\n",
              "  <tbody>\n",
              "    <tr>\n",
              "      <th>0</th>\n",
              "      <td>50419</td>\n",
              "      <td>VIP</td>\n",
              "      <td>2015-07-24</td>\n",
              "      <td>NaN</td>\n",
              "      <td>Active</td>\n",
              "      <td>837</td>\n",
              "    </tr>\n",
              "    <tr>\n",
              "      <th>1</th>\n",
              "      <td>458</td>\n",
              "      <td>VIP</td>\n",
              "      <td>2018-05-30</td>\n",
              "      <td>NaN</td>\n",
              "      <td>Active</td>\n",
              "      <td>311</td>\n",
              "    </tr>\n",
              "    <tr>\n",
              "      <th>2</th>\n",
              "      <td>20532</td>\n",
              "      <td>VIP</td>\n",
              "      <td>2018-12-25</td>\n",
              "      <td>NaN</td>\n",
              "      <td>Active</td>\n",
              "      <td>849</td>\n",
              "    </tr>\n",
              "    <tr>\n",
              "      <th>3</th>\n",
              "      <td>11655</td>\n",
              "      <td>VIP</td>\n",
              "      <td>2022-04-11</td>\n",
              "      <td>NaN</td>\n",
              "      <td>Active</td>\n",
              "      <td>821</td>\n",
              "    </tr>\n",
              "    <tr>\n",
              "      <th>4</th>\n",
              "      <td>43585</td>\n",
              "      <td>VIP</td>\n",
              "      <td>2015-12-12</td>\n",
              "      <td>NaN</td>\n",
              "      <td>Active</td>\n",
              "      <td>527</td>\n",
              "    </tr>\n",
              "  </tbody>\n",
              "</table>\n",
              "</div>\n",
              "    <div class=\"colab-df-buttons\">\n",
              "\n",
              "  <div class=\"colab-df-container\">\n",
              "    <button class=\"colab-df-convert\" onclick=\"convertToInteractive('df-2d29934a-0aa6-45c0-b15b-2f4bee2bc0b5')\"\n",
              "            title=\"Convert this dataframe to an interactive table.\"\n",
              "            style=\"display:none;\">\n",
              "\n",
              "  <svg xmlns=\"http://www.w3.org/2000/svg\" height=\"24px\" viewBox=\"0 -960 960 960\">\n",
              "    <path d=\"M120-120v-720h720v720H120Zm60-500h600v-160H180v160Zm220 220h160v-160H400v160Zm0 220h160v-160H400v160ZM180-400h160v-160H180v160Zm440 0h160v-160H620v160ZM180-180h160v-160H180v160Zm440 0h160v-160H620v160Z\"/>\n",
              "  </svg>\n",
              "    </button>\n",
              "\n",
              "  <style>\n",
              "    .colab-df-container {\n",
              "      display:flex;\n",
              "      gap: 12px;\n",
              "    }\n",
              "\n",
              "    .colab-df-convert {\n",
              "      background-color: #E8F0FE;\n",
              "      border: none;\n",
              "      border-radius: 50%;\n",
              "      cursor: pointer;\n",
              "      display: none;\n",
              "      fill: #1967D2;\n",
              "      height: 32px;\n",
              "      padding: 0 0 0 0;\n",
              "      width: 32px;\n",
              "    }\n",
              "\n",
              "    .colab-df-convert:hover {\n",
              "      background-color: #E2EBFA;\n",
              "      box-shadow: 0px 1px 2px rgba(60, 64, 67, 0.3), 0px 1px 3px 1px rgba(60, 64, 67, 0.15);\n",
              "      fill: #174EA6;\n",
              "    }\n",
              "\n",
              "    .colab-df-buttons div {\n",
              "      margin-bottom: 4px;\n",
              "    }\n",
              "\n",
              "    [theme=dark] .colab-df-convert {\n",
              "      background-color: #3B4455;\n",
              "      fill: #D2E3FC;\n",
              "    }\n",
              "\n",
              "    [theme=dark] .colab-df-convert:hover {\n",
              "      background-color: #434B5C;\n",
              "      box-shadow: 0px 1px 3px 1px rgba(0, 0, 0, 0.15);\n",
              "      filter: drop-shadow(0px 1px 2px rgba(0, 0, 0, 0.3));\n",
              "      fill: #FFFFFF;\n",
              "    }\n",
              "  </style>\n",
              "\n",
              "    <script>\n",
              "      const buttonEl =\n",
              "        document.querySelector('#df-2d29934a-0aa6-45c0-b15b-2f4bee2bc0b5 button.colab-df-convert');\n",
              "      buttonEl.style.display =\n",
              "        google.colab.kernel.accessAllowed ? 'block' : 'none';\n",
              "\n",
              "      async function convertToInteractive(key) {\n",
              "        const element = document.querySelector('#df-2d29934a-0aa6-45c0-b15b-2f4bee2bc0b5');\n",
              "        const dataTable =\n",
              "          await google.colab.kernel.invokeFunction('convertToInteractive',\n",
              "                                                    [key], {});\n",
              "        if (!dataTable) return;\n",
              "\n",
              "        const docLinkHtml = 'Like what you see? Visit the ' +\n",
              "          '<a target=\"_blank\" href=https://colab.research.google.com/notebooks/data_table.ipynb>data table notebook</a>'\n",
              "          + ' to learn more about interactive tables.';\n",
              "        element.innerHTML = '';\n",
              "        dataTable['output_type'] = 'display_data';\n",
              "        await google.colab.output.renderOutput(dataTable, element);\n",
              "        const docLink = document.createElement('div');\n",
              "        docLink.innerHTML = docLinkHtml;\n",
              "        element.appendChild(docLink);\n",
              "      }\n",
              "    </script>\n",
              "  </div>\n",
              "\n",
              "\n",
              "<div id=\"df-20152502-64fa-4108-b712-ee967d39af5a\">\n",
              "  <button class=\"colab-df-quickchart\" onclick=\"quickchart('df-20152502-64fa-4108-b712-ee967d39af5a')\"\n",
              "            title=\"Suggest charts\"\n",
              "            style=\"display:none;\">\n",
              "\n",
              "<svg xmlns=\"http://www.w3.org/2000/svg\" height=\"24px\"viewBox=\"0 0 24 24\"\n",
              "     width=\"24px\">\n",
              "    <g>\n",
              "        <path d=\"M19 3H5c-1.1 0-2 .9-2 2v14c0 1.1.9 2 2 2h14c1.1 0 2-.9 2-2V5c0-1.1-.9-2-2-2zM9 17H7v-7h2v7zm4 0h-2V7h2v10zm4 0h-2v-4h2v4z\"/>\n",
              "    </g>\n",
              "</svg>\n",
              "  </button>\n",
              "\n",
              "<style>\n",
              "  .colab-df-quickchart {\n",
              "      --bg-color: #E8F0FE;\n",
              "      --fill-color: #1967D2;\n",
              "      --hover-bg-color: #E2EBFA;\n",
              "      --hover-fill-color: #174EA6;\n",
              "      --disabled-fill-color: #AAA;\n",
              "      --disabled-bg-color: #DDD;\n",
              "  }\n",
              "\n",
              "  [theme=dark] .colab-df-quickchart {\n",
              "      --bg-color: #3B4455;\n",
              "      --fill-color: #D2E3FC;\n",
              "      --hover-bg-color: #434B5C;\n",
              "      --hover-fill-color: #FFFFFF;\n",
              "      --disabled-bg-color: #3B4455;\n",
              "      --disabled-fill-color: #666;\n",
              "  }\n",
              "\n",
              "  .colab-df-quickchart {\n",
              "    background-color: var(--bg-color);\n",
              "    border: none;\n",
              "    border-radius: 50%;\n",
              "    cursor: pointer;\n",
              "    display: none;\n",
              "    fill: var(--fill-color);\n",
              "    height: 32px;\n",
              "    padding: 0;\n",
              "    width: 32px;\n",
              "  }\n",
              "\n",
              "  .colab-df-quickchart:hover {\n",
              "    background-color: var(--hover-bg-color);\n",
              "    box-shadow: 0 1px 2px rgba(60, 64, 67, 0.3), 0 1px 3px 1px rgba(60, 64, 67, 0.15);\n",
              "    fill: var(--button-hover-fill-color);\n",
              "  }\n",
              "\n",
              "  .colab-df-quickchart-complete:disabled,\n",
              "  .colab-df-quickchart-complete:disabled:hover {\n",
              "    background-color: var(--disabled-bg-color);\n",
              "    fill: var(--disabled-fill-color);\n",
              "    box-shadow: none;\n",
              "  }\n",
              "\n",
              "  .colab-df-spinner {\n",
              "    border: 2px solid var(--fill-color);\n",
              "    border-color: transparent;\n",
              "    border-bottom-color: var(--fill-color);\n",
              "    animation:\n",
              "      spin 1s steps(1) infinite;\n",
              "  }\n",
              "\n",
              "  @keyframes spin {\n",
              "    0% {\n",
              "      border-color: transparent;\n",
              "      border-bottom-color: var(--fill-color);\n",
              "      border-left-color: var(--fill-color);\n",
              "    }\n",
              "    20% {\n",
              "      border-color: transparent;\n",
              "      border-left-color: var(--fill-color);\n",
              "      border-top-color: var(--fill-color);\n",
              "    }\n",
              "    30% {\n",
              "      border-color: transparent;\n",
              "      border-left-color: var(--fill-color);\n",
              "      border-top-color: var(--fill-color);\n",
              "      border-right-color: var(--fill-color);\n",
              "    }\n",
              "    40% {\n",
              "      border-color: transparent;\n",
              "      border-right-color: var(--fill-color);\n",
              "      border-top-color: var(--fill-color);\n",
              "    }\n",
              "    60% {\n",
              "      border-color: transparent;\n",
              "      border-right-color: var(--fill-color);\n",
              "    }\n",
              "    80% {\n",
              "      border-color: transparent;\n",
              "      border-right-color: var(--fill-color);\n",
              "      border-bottom-color: var(--fill-color);\n",
              "    }\n",
              "    90% {\n",
              "      border-color: transparent;\n",
              "      border-bottom-color: var(--fill-color);\n",
              "    }\n",
              "  }\n",
              "</style>\n",
              "\n",
              "  <script>\n",
              "    async function quickchart(key) {\n",
              "      const quickchartButtonEl =\n",
              "        document.querySelector('#' + key + ' button');\n",
              "      quickchartButtonEl.disabled = true;  // To prevent multiple clicks.\n",
              "      quickchartButtonEl.classList.add('colab-df-spinner');\n",
              "      try {\n",
              "        const charts = await google.colab.kernel.invokeFunction(\n",
              "            'suggestCharts', [key], {});\n",
              "      } catch (error) {\n",
              "        console.error('Error during call to suggestCharts:', error);\n",
              "      }\n",
              "      quickchartButtonEl.classList.remove('colab-df-spinner');\n",
              "      quickchartButtonEl.classList.add('colab-df-quickchart-complete');\n",
              "    }\n",
              "    (() => {\n",
              "      let quickchartButtonEl =\n",
              "        document.querySelector('#df-20152502-64fa-4108-b712-ee967d39af5a button');\n",
              "      quickchartButtonEl.style.display =\n",
              "        google.colab.kernel.accessAllowed ? 'block' : 'none';\n",
              "    })();\n",
              "  </script>\n",
              "</div>\n",
              "\n",
              "    </div>\n",
              "  </div>\n"
            ],
            "application/vnd.google.colaboratory.intrinsic+json": {
              "type": "dataframe",
              "repr_error": "Out of range float values are not JSON compliant: nan"
            }
          },
          "metadata": {},
          "execution_count": 26
        }
      ]
    },
    {
      "cell_type": "code",
      "source": [
        "sns.histplot(df, x = 'membership_lifespan', hue = 'membership_status');"
      ],
      "metadata": {
        "colab": {
          "base_uri": "https://localhost:8080/",
          "height": 450
        },
        "id": "38KDmdzvBUJH",
        "outputId": "3f0981fe-9843-4d10-a0bb-c6d1fb435cf0"
      },
      "execution_count": 27,
      "outputs": [
        {
          "output_type": "display_data",
          "data": {
            "text/plain": [
              "<Figure size 640x480 with 1 Axes>"
            ],
            "image/png": "[encoded data removed]"
          },
          "metadata": {}
        }
      ]
    },
    {
      "cell_type": "markdown",
      "source": [
        "Hình trên thể hiện lifespan của các thành viên có tài khoản đang hoạt động cũng như tài khoản đã quá hạn. Ta thấy:\n",
        "- Với các tài khoản thành viên đang hoạt động, khi giá trị lifespan càng cao, số lượng tài khoản tương ứng với lifespan cũng tăng lên.\n",
        "\n",
        "- Với tài khoản bất hoạt, số lượng tài khoản với lifespan khác nhau phân bố khá đều, như vậy khi lifespan tăng lên, $\\frac{{\\text{Số tài khoản bất hoạt}}}{{\\text{Số tài khoản hoạt động}}}$\n",
        "  giảm đi.\n",
        "\n",
        "Tất nhiên ta còn cần nhiều yếu tố để đánh giá, nhưng điều này có thể xem là một dấu hiệu tích cực cho thấy đơn vị đang cung cấp dịch vụ hiệu quả, giúp giữ chân khách hàng qua thời gian.\n"
      ],
      "metadata": {
        "id": "Y-v4HVzn-4K_"
      }
    },
    {
      "cell_type": "code",
      "source": [
        "member_info_cols = [\n",
        "    \"membership_lifespan\",\n",
        "    \"num_day_since_last_active\",\n",
        "    \"num_active_last_7d\",\n",
        "    \"num_active_last_14d\",\n",
        "    \"num_active_last_30d\",\n",
        "    \"signup_in_latenight\",\n",
        "    \"most_active_hour\",\n",
        "    \"num_apply_lending\",]"
      ],
      "metadata": {
        "id": "JMcAICsFMGPZ"
      },
      "execution_count": 28,
      "outputs": []
    },
    {
      "cell_type": "markdown",
      "source": [
        "## Nhóm dữ liệu liên quan thông tin giao dịch mua sắm\n",
        "\n",
        "Gồm các cột `'total_amount_spent',\n",
        "       'total_amount_spent_last_30d', 'total_amount_spent_last_60d',\n",
        "       'total_amount_spent_last_90d', 'total_amount_spent_last_180d',\n",
        "       'total_amount_spent_last_365d', 'total_tax_amount_spent',\n",
        "       'total_fee_amount_spent', 'num_completed_txn', 'num_canceled_txn',\n",
        "       'num_reject_txn', 'pct_reject2total_txn', 'top_rejected_reason',\n",
        "       'num_refunded_txn', 'top_refunded_reason', 'top_payment_method',\n",
        "       'top_payment_channel', 'is_ordering_shipping_address_same'`"
      ],
      "metadata": {
        "id": "j_PA1UWxqzZX"
      }
    },
    {
      "cell_type": "code",
      "source": [
        "trans_cols = ['total_amount_spent',\n",
        "       'total_amount_spent_last_30d', 'total_amount_spent_last_60d',\n",
        "       'total_amount_spent_last_90d', 'total_amount_spent_last_180d',\n",
        "       'total_amount_spent_last_365d', 'total_tax_amount_spent',\n",
        "       'total_fee_amount_spent', 'num_completed_txn', 'num_canceled_txn',\n",
        "       'num_reject_txn', 'pct_reject2total_txn', 'top_rejected_reason',\n",
        "       'num_refunded_txn', 'top_refunded_reason', 'top_payment_method',\n",
        "       'top_payment_channel', 'is_ordering_shipping_address_same'\n",
        "]"
      ],
      "metadata": {
        "id": "0-aCQEZLsivt"
      },
      "execution_count": 29,
      "outputs": []
    },
    {
      "cell_type": "markdown",
      "source": [
        "## Nhóm dữ liệu liên quan thông tin promotion\n",
        "\n",
        "Gồm các cột `'prob_abuse_promotion', 'num_used_promotion', 'prob_abnormal_activity',\n",
        "                  'num_select_promotion', 'num_interest_products'`"
      ],
      "metadata": {
        "id": "pcV4A438spLF"
      }
    },
    {
      "cell_type": "code",
      "source": [
        "promotion_cols = ['prob_abuse_promotion', 'num_used_promotion', 'prob_abnormal_activity',\n",
        "                  'num_select_promotion', 'num_interest_products']"
      ],
      "metadata": {
        "id": "UZSvV-pyszCV"
      },
      "execution_count": 30,
      "outputs": []
    },
    {
      "cell_type": "markdown",
      "source": [
        "## Nhóm dữ liệu liên quan đến thu nhập\n",
        "\n",
        "Gồm các cột `'income_spending_ratio', 'income_stability', 'total_tax_amount',\n",
        "               'income_source', 'annually_income_segment', 'monthly_income'`"
      ],
      "metadata": {
        "id": "LpzSwu-mswOc"
      }
    },
    {
      "cell_type": "code",
      "source": [
        "income_cols = ['income_spending_ratio', 'income_stability', 'total_tax_amount',\n",
        "               'income_source', 'annually_income_segment', 'monthly_income']"
      ],
      "metadata": {
        "id": "kTc3OQa_tNQW"
      },
      "execution_count": 31,
      "outputs": []
    },
    {
      "cell_type": "markdown",
      "source": [
        "## Nhóm dữ liệu liên quan đến tài sản\n",
        "\n",
        "Gồm các cột `'total_property_value', 'top_property_type', 'in_debt'`"
      ],
      "metadata": {
        "id": "T5WeLVmltf6u"
      }
    },
    {
      "cell_type": "code",
      "source": [
        "asset_cols = ['total_property_value', 'top_property_type', 'in_debt']"
      ],
      "metadata": {
        "id": "edmUA7Oftlt3"
      },
      "execution_count": 32,
      "outputs": []
    },
    {
      "cell_type": "markdown",
      "source": [
        "## Nhóm dữ liệu liên quan các hoá đơn thanh toán\n",
        "\n",
        "Gồm các cột `'monthly_bill_amount', 'total_annual_bill_amount', 'num_bill_overdue'`"
      ],
      "metadata": {
        "id": "tIhLgkOLswpt"
      }
    },
    {
      "cell_type": "code",
      "source": [
        "bill_cols = ['monthly_bill_amount', 'total_annual_bill_amount', 'num_bill_overdue']"
      ],
      "metadata": {
        "id": "Uccw1etAtbK2"
      },
      "execution_count": 33,
      "outputs": []
    },
    {
      "cell_type": "code",
      "source": [
        "feature_df = df[member_info_cols + trans_cols + promotion_cols + income_cols + asset_cols + bill_cols]\n",
        "feature_df.head()"
      ],
      "metadata": {
        "colab": {
          "base_uri": "https://localhost:8080/",
          "height": 325
        },
        "id": "ZbCQKodZjGXg",
        "outputId": "964323b7-a923-4b4b-bb3e-08a67bf5f011"
      },
      "execution_count": 34,
      "outputs": [
        {
          "output_type": "execute_result",
          "data": {
            "text/plain": [
              "   membership_lifespan  num_day_since_last_active  num_active_last_7d  \\\n",
              "0                  837                        354                 252   \n",
              "1                  311                         72                 187   \n",
              "2                  849                        166                 164   \n",
              "3                  821                         37                  32   \n",
              "4                  527                         15                 131   \n",
              "\n",
              "   num_active_last_14d  num_active_last_30d  signup_in_latenight  \\\n",
              "0                  303                  915                False   \n",
              "1                   69                 1000                 True   \n",
              "2                  226                  240                False   \n",
              "3                  273                  630                 True   \n",
              "4                  473                  680                 True   \n",
              "\n",
              "   most_active_hour  num_apply_lending  total_amount_spent  \\\n",
              "0                 3                 10          1534419000   \n",
              "1                 3                 19          8341801000   \n",
              "2                21                 15          4350035000   \n",
              "3                 6                  2             8591000   \n",
              "4                 1                  4          1153566000   \n",
              "\n",
              "   total_amount_spent_last_30d  ...  total_tax_amount  \\\n",
              "0                    258057000  ...           7665000   \n",
              "1                    388076000  ...           9071000   \n",
              "2                    924929000  ...           7921000   \n",
              "3                    508054000  ...           5771000   \n",
              "4                    935648000  ...           1188000   \n",
              "\n",
              "             income_source  annually_income_segment  monthly_income  \\\n",
              "0        Kinh doanh online                Trên 3 tỷ       900000000   \n",
              "1  Kinh doanh truyền thống                Trên 3 tỷ       615000000   \n",
              "2                   Đầu tư           Dưới 300 triệu       646000000   \n",
              "3  Kinh doanh truyền thống           Dưới 300 triệu       628000000   \n",
              "4                   Đầu tư                Trên 1 tỷ       278000000   \n",
              "\n",
              "   total_property_value        top_property_type  in_debt  \\\n",
              "0            1100000000              Nhà ở chính       Có   \n",
              "1             400000000  Bất động sản thương mại       Có   \n",
              "2             300000000                  Đất đai       Có   \n",
              "3             700000000          Căn hộ/Chung cư       Có   \n",
              "4            1100000000  Bất động sản thương mại    Không   \n",
              "\n",
              "   monthly_bill_amount  total_annual_bill_amount  num_bill_overdue  \n",
              "0             43300000                 555240000                13  \n",
              "1             31600000                 289176000                14  \n",
              "2             49800000                 243228000                 8  \n",
              "3             30300000                  30948000                21  \n",
              "4             38800000                 458592000                20  \n",
              "\n",
              "[5 rows x 43 columns]"
            ],
            "text/html": [
              "\n",
              "  <div id=\"df-cc420667-623b-4f24-8d51-757319249f6c\" class=\"colab-df-container\">\n",
              "    <div>\n",
              "<style scoped>\n",
              "    .dataframe tbody tr th:only-of-type {\n",
              "        vertical-align: middle;\n",
              "    }\n",
              "\n",
              "    .dataframe tbody tr th {\n",
              "        vertical-align: top;\n",
              "    }\n",
              "\n",
              "    .dataframe thead th {\n",
              "        text-align: right;\n",
              "    }\n",
              "</style>\n",
              "<table border=\"1\" class=\"dataframe\">\n",
              "  <thead>\n",
              "    <tr style=\"text-align: right;\">\n",
              "      <th></th>\n",
              "      <th>membership_lifespan</th>\n",
              "      <th>num_day_since_last_active</th>\n",
              "      <th>num_active_last_7d</th>\n",
              "      <th>num_active_last_14d</th>\n",
              "      <th>num_active_last_30d</th>\n",
              "      <th>signup_in_latenight</th>\n",
              "      <th>most_active_hour</th>\n",
              "      <th>num_apply_lending</th>\n",
              "      <th>total_amount_spent</th>\n",
              "      <th>total_amount_spent_last_30d</th>\n",
              "      <th>...</th>\n",
              "      <th>total_tax_amount</th>\n",
              "      <th>income_source</th>\n",
              "      <th>annually_income_segment</th>\n",
              "      <th>monthly_income</th>\n",
              "      <th>total_property_value</th>\n",
              "      <th>top_property_type</th>\n",
              "      <th>in_debt</th>\n",
              "      <th>monthly_bill_amount</th>\n",
              "      <th>total_annual_bill_amount</th>\n",
              "      <th>num_bill_overdue</th>\n",
              "    </tr>\n",
              "  </thead>\n",
              "  <tbody>\n",
              "    <tr>\n",
              "      <th>0</th>\n",
              "      <td>837</td>\n",
              "      <td>354</td>\n",
              "      <td>252</td>\n",
              "      <td>303</td>\n",
              "      <td>915</td>\n",
              "      <td>False</td>\n",
              "      <td>3</td>\n",
              "      <td>10</td>\n",
              "      <td>1534419000</td>\n",
              "      <td>258057000</td>\n",
              "      <td>...</td>\n",
              "      <td>7665000</td>\n",
              "      <td>Kinh doanh online</td>\n",
              "      <td>Trên 3 tỷ</td>\n",
              "      <td>900000000</td>\n",
              "      <td>1100000000</td>\n",
              "      <td>Nhà ở chính</td>\n",
              "      <td>Có</td>\n",
              "      <td>43300000</td>\n",
              "      <td>555240000</td>\n",
              "      <td>13</td>\n",
              "    </tr>\n",
              "    <tr>\n",
              "      <th>1</th>\n",
              "      <td>311</td>\n",
              "      <td>72</td>\n",
              "      <td>187</td>\n",
              "      <td>69</td>\n",
              "      <td>1000</td>\n",
              "      <td>True</td>\n",
              "      <td>3</td>\n",
              "      <td>19</td>\n",
              "      <td>8341801000</td>\n",
              "      <td>388076000</td>\n",
              "      <td>...</td>\n",
              "      <td>9071000</td>\n",
              "      <td>Kinh doanh truyền thống</td>\n",
              "      <td>Trên 3 tỷ</td>\n",
              "      <td>615000000</td>\n",
              "      <td>400000000</td>\n",
              "      <td>Bất động sản thương mại</td>\n",
              "      <td>Có</td>\n",
              "      <td>31600000</td>\n",
              "      <td>289176000</td>\n",
              "      <td>14</td>\n",
              "    </tr>\n",
              "    <tr>\n",
              "      <th>2</th>\n",
              "      <td>849</td>\n",
              "      <td>166</td>\n",
              "      <td>164</td>\n",
              "      <td>226</td>\n",
              "      <td>240</td>\n",
              "      <td>False</td>\n",
              "      <td>21</td>\n",
              "      <td>15</td>\n",
              "      <td>4350035000</td>\n",
              "      <td>924929000</td>\n",
              "      <td>...</td>\n",
              "      <td>7921000</td>\n",
              "      <td>Đầu tư</td>\n",
              "      <td>Dưới 300 triệu</td>\n",
              "      <td>646000000</td>\n",
              "      <td>300000000</td>\n",
              "      <td>Đất đai</td>\n",
              "      <td>Có</td>\n",
              "      <td>49800000</td>\n",
              "      <td>243228000</td>\n",
              "      <td>8</td>\n",
              "    </tr>\n",
              "    <tr>\n",
              "      <th>3</th>\n",
              "      <td>821</td>\n",
              "      <td>37</td>\n",
              "      <td>32</td>\n",
              "      <td>273</td>\n",
              "      <td>630</td>\n",
              "      <td>True</td>\n",
              "      <td>6</td>\n",
              "      <td>2</td>\n",
              "      <td>8591000</td>\n",
              "      <td>508054000</td>\n",
              "      <td>...</td>\n",
              "      <td>5771000</td>\n",
              "      <td>Kinh doanh truyền thống</td>\n",
              "      <td>Dưới 300 triệu</td>\n",
              "      <td>628000000</td>\n",
              "      <td>700000000</td>\n",
              "      <td>Căn hộ/Chung cư</td>\n",
              "      <td>Có</td>\n",
              "      <td>30300000</td>\n",
              "      <td>30948000</td>\n",
              "      <td>21</td>\n",
              "    </tr>\n",
              "    <tr>\n",
              "      <th>4</th>\n",
              "      <td>527</td>\n",
              "      <td>15</td>\n",
              "      <td>131</td>\n",
              "      <td>473</td>\n",
              "      <td>680</td>\n",
              "      <td>True</td>\n",
              "      <td>1</td>\n",
              "      <td>4</td>\n",
              "      <td>1153566000</td>\n",
              "      <td>935648000</td>\n",
              "      <td>...</td>\n",
              "      <td>1188000</td>\n",
              "      <td>Đầu tư</td>\n",
              "      <td>Trên 1 tỷ</td>\n",
              "      <td>278000000</td>\n",
              "      <td>1100000000</td>\n",
              "      <td>Bất động sản thương mại</td>\n",
              "      <td>Không</td>\n",
              "      <td>38800000</td>\n",
              "      <td>458592000</td>\n",
              "      <td>20</td>\n",
              "    </tr>\n",
              "  </tbody>\n",
              "</table>\n",
              "<p>5 rows × 43 columns</p>\n",
              "</div>\n",
              "    <div class=\"colab-df-buttons\">\n",
              "\n",
              "  <div class=\"colab-df-container\">\n",
              "    <button class=\"colab-df-convert\" onclick=\"convertToInteractive('df-cc420667-623b-4f24-8d51-757319249f6c')\"\n",
              "            title=\"Convert this dataframe to an interactive table.\"\n",
              "            style=\"display:none;\">\n",
              "\n",
              "  <svg xmlns=\"http://www.w3.org/2000/svg\" height=\"24px\" viewBox=\"0 -960 960 960\">\n",
              "    <path d=\"M120-120v-720h720v720H120Zm60-500h600v-160H180v160Zm220 220h160v-160H400v160Zm0 220h160v-160H400v160ZM180-400h160v-160H180v160Zm440 0h160v-160H620v160ZM180-180h160v-160H180v160Zm440 0h160v-160H620v160Z\"/>\n",
              "  </svg>\n",
              "    </button>\n",
              "\n",
              "  <style>\n",
              "    .colab-df-container {\n",
              "      display:flex;\n",
              "      gap: 12px;\n",
              "    }\n",
              "\n",
              "    .colab-df-convert {\n",
              "      background-color: #E8F0FE;\n",
              "      border: none;\n",
              "      border-radius: 50%;\n",
              "      cursor: pointer;\n",
              "      display: none;\n",
              "      fill: #1967D2;\n",
              "      height: 32px;\n",
              "      padding: 0 0 0 0;\n",
              "      width: 32px;\n",
              "    }\n",
              "\n",
              "    .colab-df-convert:hover {\n",
              "      background-color: #E2EBFA;\n",
              "      box-shadow: 0px 1px 2px rgba(60, 64, 67, 0.3), 0px 1px 3px 1px rgba(60, 64, 67, 0.15);\n",
              "      fill: #174EA6;\n",
              "    }\n",
              "\n",
              "    .colab-df-buttons div {\n",
              "      margin-bottom: 4px;\n",
              "    }\n",
              "\n",
              "    [theme=dark] .colab-df-convert {\n",
              "      background-color: #3B4455;\n",
              "      fill: #D2E3FC;\n",
              "    }\n",
              "\n",
              "    [theme=dark] .colab-df-convert:hover {\n",
              "      background-color: #434B5C;\n",
              "      box-shadow: 0px 1px 3px 1px rgba(0, 0, 0, 0.15);\n",
              "      filter: drop-shadow(0px 1px 2px rgba(0, 0, 0, 0.3));\n",
              "      fill: #FFFFFF;\n",
              "    }\n",
              "  </style>\n",
              "\n",
              "    <script>\n",
              "      const buttonEl =\n",
              "        document.querySelector('#df-cc420667-623b-4f24-8d51-757319249f6c button.colab-df-convert');\n",
              "      buttonEl.style.display =\n",
              "        google.colab.kernel.accessAllowed ? 'block' : 'none';\n",
              "\n",
              "      async function convertToInteractive(key) {\n",
              "        const element = document.querySelector('#df-cc420667-623b-4f24-8d51-757319249f6c');\n",
              "        const dataTable =\n",
              "          await google.colab.kernel.invokeFunction('convertToInteractive',\n",
              "                                                    [key], {});\n",
              "        if (!dataTable) return;\n",
              "\n",
              "        const docLinkHtml = 'Like what you see? Visit the ' +\n",
              "          '<a target=\"_blank\" href=https://colab.research.google.com/notebooks/data_table.ipynb>data table notebook</a>'\n",
              "          + ' to learn more about interactive tables.';\n",
              "        element.innerHTML = '';\n",
              "        dataTable['output_type'] = 'display_data';\n",
              "        await google.colab.output.renderOutput(dataTable, element);\n",
              "        const docLink = document.createElement('div');\n",
              "        docLink.innerHTML = docLinkHtml;\n",
              "        element.appendChild(docLink);\n",
              "      }\n",
              "    </script>\n",
              "  </div>\n",
              "\n",
              "\n",
              "<div id=\"df-052cca23-510b-402f-bd1b-4019fa1fb825\">\n",
              "  <button class=\"colab-df-quickchart\" onclick=\"quickchart('df-052cca23-510b-402f-bd1b-4019fa1fb825')\"\n",
              "            title=\"Suggest charts\"\n",
              "            style=\"display:none;\">\n",
              "\n",
              "<svg xmlns=\"http://www.w3.org/2000/svg\" height=\"24px\"viewBox=\"0 0 24 24\"\n",
              "     width=\"24px\">\n",
              "    <g>\n",
              "        <path d=\"M19 3H5c-1.1 0-2 .9-2 2v14c0 1.1.9 2 2 2h14c1.1 0 2-.9 2-2V5c0-1.1-.9-2-2-2zM9 17H7v-7h2v7zm4 0h-2V7h2v10zm4 0h-2v-4h2v4z\"/>\n",
              "    </g>\n",
              "</svg>\n",
              "  </button>\n",
              "\n",
              "<style>\n",
              "  .colab-df-quickchart {\n",
              "      --bg-color: #E8F0FE;\n",
              "      --fill-color: #1967D2;\n",
              "      --hover-bg-color: #E2EBFA;\n",
              "      --hover-fill-color: #174EA6;\n",
              "      --disabled-fill-color: #AAA;\n",
              "      --disabled-bg-color: #DDD;\n",
              "  }\n",
              "\n",
              "  [theme=dark] .colab-df-quickchart {\n",
              "      --bg-color: #3B4455;\n",
              "      --fill-color: #D2E3FC;\n",
              "      --hover-bg-color: #434B5C;\n",
              "      --hover-fill-color: #FFFFFF;\n",
              "      --disabled-bg-color: #3B4455;\n",
              "      --disabled-fill-color: #666;\n",
              "  }\n",
              "\n",
              "  .colab-df-quickchart {\n",
              "    background-color: var(--bg-color);\n",
              "    border: none;\n",
              "    border-radius: 50%;\n",
              "    cursor: pointer;\n",
              "    display: none;\n",
              "    fill: var(--fill-color);\n",
              "    height: 32px;\n",
              "    padding: 0;\n",
              "    width: 32px;\n",
              "  }\n",
              "\n",
              "  .colab-df-quickchart:hover {\n",
              "    background-color: var(--hover-bg-color);\n",
              "    box-shadow: 0 1px 2px rgba(60, 64, 67, 0.3), 0 1px 3px 1px rgba(60, 64, 67, 0.15);\n",
              "    fill: var(--button-hover-fill-color);\n",
              "  }\n",
              "\n",
              "  .colab-df-quickchart-complete:disabled,\n",
              "  .colab-df-quickchart-complete:disabled:hover {\n",
              "    background-color: var(--disabled-bg-color);\n",
              "    fill: var(--disabled-fill-color);\n",
              "    box-shadow: none;\n",
              "  }\n",
              "\n",
              "  .colab-df-spinner {\n",
              "    border: 2px solid var(--fill-color);\n",
              "    border-color: transparent;\n",
              "    border-bottom-color: var(--fill-color);\n",
              "    animation:\n",
              "      spin 1s steps(1) infinite;\n",
              "  }\n",
              "\n",
              "  @keyframes spin {\n",
              "    0% {\n",
              "      border-color: transparent;\n",
              "      border-bottom-color: var(--fill-color);\n",
              "      border-left-color: var(--fill-color);\n",
              "    }\n",
              "    20% {\n",
              "      border-color: transparent;\n",
              "      border-left-color: var(--fill-color);\n",
              "      border-top-color: var(--fill-color);\n",
              "    }\n",
              "    30% {\n",
              "      border-color: transparent;\n",
              "      border-left-color: var(--fill-color);\n",
              "      border-top-color: var(--fill-color);\n",
              "      border-right-color: var(--fill-color);\n",
              "    }\n",
              "    40% {\n",
              "      border-color: transparent;\n",
              "      border-right-color: var(--fill-color);\n",
              "      border-top-color: var(--fill-color);\n",
              "    }\n",
              "    60% {\n",
              "      border-color: transparent;\n",
              "      border-right-color: var(--fill-color);\n",
              "    }\n",
              "    80% {\n",
              "      border-color: transparent;\n",
              "      border-right-color: var(--fill-color);\n",
              "      border-bottom-color: var(--fill-color);\n",
              "    }\n",
              "    90% {\n",
              "      border-color: transparent;\n",
              "      border-bottom-color: var(--fill-color);\n",
              "    }\n",
              "  }\n",
              "</style>\n",
              "\n",
              "  <script>\n",
              "    async function quickchart(key) {\n",
              "      const quickchartButtonEl =\n",
              "        document.querySelector('#' + key + ' button');\n",
              "      quickchartButtonEl.disabled = true;  // To prevent multiple clicks.\n",
              "      quickchartButtonEl.classList.add('colab-df-spinner');\n",
              "      try {\n",
              "        const charts = await google.colab.kernel.invokeFunction(\n",
              "            'suggestCharts', [key], {});\n",
              "      } catch (error) {\n",
              "        console.error('Error during call to suggestCharts:', error);\n",
              "      }\n",
              "      quickchartButtonEl.classList.remove('colab-df-spinner');\n",
              "      quickchartButtonEl.classList.add('colab-df-quickchart-complete');\n",
              "    }\n",
              "    (() => {\n",
              "      let quickchartButtonEl =\n",
              "        document.querySelector('#df-052cca23-510b-402f-bd1b-4019fa1fb825 button');\n",
              "      quickchartButtonEl.style.display =\n",
              "        google.colab.kernel.accessAllowed ? 'block' : 'none';\n",
              "    })();\n",
              "  </script>\n",
              "</div>\n",
              "\n",
              "    </div>\n",
              "  </div>\n"
            ],
            "application/vnd.google.colaboratory.intrinsic+json": {
              "type": "dataframe",
              "variable_name": "feature_df"
            }
          },
          "metadata": {},
          "execution_count": 34
        }
      ]
    },
    {
      "cell_type": "code",
      "source": [
        "corr = df.corr()\n",
        "sns.heatmap(corr)"
      ],
      "metadata": {
        "colab": {
          "base_uri": "https://localhost:8080/",
          "height": 745
        },
        "id": "emlXFHQYPA8A",
        "outputId": "5abc696b-f4d5-4314-c486-6981c1136ab7"
      },
      "execution_count": 35,
      "outputs": [
        {
          "output_type": "stream",
          "name": "stderr",
          "text": [
            "<ipython-input-35-753ca5bff919>:1: FutureWarning: The default value of numeric_only in DataFrame.corr is deprecated. In a future version, it will default to False. Select only valid columns or specify the value of numeric_only to silence this warning.\n",
            "  corr = df.corr()\n"
          ]
        },
        {
          "output_type": "execute_result",
          "data": {
            "text/plain": [
              "<Axes: >"
            ]
          },
          "metadata": {},
          "execution_count": 35
        },
        {
          "output_type": "display_data",
          "data": {
            "text/plain": [
              "<Figure size 640x480 with 2 Axes>"
            ],
            "image/png": "[encoded data removed]"
          },
          "metadata": {}
        }
      ]
    },
    {
      "cell_type": "markdown",
      "source": [
        "Các biến số ít có tương quan với nhau, trừ hai biến `Customer_points` và `discount_rate`"
      ],
      "metadata": {
        "id": "Uyy36N_iTpjB"
      }
    },
    {
      "cell_type": "markdown",
      "source": [
        "# Feature Engineering"
      ],
      "metadata": {
        "id": "AZgNnEJbOc0g"
      }
    },
    {
      "cell_type": "code",
      "source": [
        "# Ok giờ ta sẽ chỉ dùng data dạng number thôi\n",
        "feature = feature_df.select_dtypes(exclude=[object, bool])\n",
        "feature.head()"
      ],
      "metadata": {
        "colab": {
          "base_uri": "https://localhost:8080/",
          "height": 255
        },
        "id": "3ZuSZ_p6NOSG",
        "outputId": "65e4bad4-40c0-48cd-bff6-0d3ccc1b213c"
      },
      "execution_count": 36,
      "outputs": [
        {
          "output_type": "execute_result",
          "data": {
            "text/plain": [
              "   membership_lifespan  num_day_since_last_active  num_active_last_7d  \\\n",
              "0                  837                        354                 252   \n",
              "1                  311                         72                 187   \n",
              "2                  849                        166                 164   \n",
              "3                  821                         37                  32   \n",
              "4                  527                         15                 131   \n",
              "\n",
              "   num_active_last_14d  num_active_last_30d  most_active_hour  \\\n",
              "0                  303                  915                 3   \n",
              "1                   69                 1000                 3   \n",
              "2                  226                  240                21   \n",
              "3                  273                  630                 6   \n",
              "4                  473                  680                 1   \n",
              "\n",
              "   num_apply_lending  total_amount_spent  total_amount_spent_last_30d  \\\n",
              "0                 10          1534419000                    258057000   \n",
              "1                 19          8341801000                    388076000   \n",
              "2                 15          4350035000                    924929000   \n",
              "3                  2             8591000                    508054000   \n",
              "4                  4          1153566000                    935648000   \n",
              "\n",
              "   total_amount_spent_last_60d  ...  prob_abnormal_activity  \\\n",
              "0                    965126000  ...                    0.94   \n",
              "1                    734228000  ...                    0.46   \n",
              "2                    202899000  ...                    0.78   \n",
              "3                    872911000  ...                    0.51   \n",
              "4                    153210000  ...                    0.11   \n",
              "\n",
              "   num_select_promotion  num_interest_products  income_spending_ratio  \\\n",
              "0                   312                     29               0.123289   \n",
              "1                   926                     10               0.325329   \n",
              "2                   583                     44               0.633699   \n",
              "3                   985                     43               0.068492   \n",
              "4                   657                     12               0.162109   \n",
              "\n",
              "   total_tax_amount  monthly_income  total_property_value  \\\n",
              "0           7665000       900000000            1100000000   \n",
              "1           9071000       615000000             400000000   \n",
              "2           7921000       646000000             300000000   \n",
              "3           5771000       628000000             700000000   \n",
              "4           1188000       278000000            1100000000   \n",
              "\n",
              "   monthly_bill_amount  total_annual_bill_amount  num_bill_overdue  \n",
              "0             43300000                 555240000                13  \n",
              "1             31600000                 289176000                14  \n",
              "2             49800000                 243228000                 8  \n",
              "3             30300000                  30948000                21  \n",
              "4             38800000                 458592000                20  \n",
              "\n",
              "[5 rows x 32 columns]"
            ],
            "text/html": [
              "\n",
              "  <div id=\"df-1e35ac1a-95c9-4278-96f8-4b3ee9f6358d\" class=\"colab-df-container\">\n",
              "    <div>\n",
              "<style scoped>\n",
              "    .dataframe tbody tr th:only-of-type {\n",
              "        vertical-align: middle;\n",
              "    }\n",
              "\n",
              "    .dataframe tbody tr th {\n",
              "        vertical-align: top;\n",
              "    }\n",
              "\n",
              "    .dataframe thead th {\n",
              "        text-align: right;\n",
              "    }\n",
              "</style>\n",
              "<table border=\"1\" class=\"dataframe\">\n",
              "  <thead>\n",
              "    <tr style=\"text-align: right;\">\n",
              "      <th></th>\n",
              "      <th>membership_lifespan</th>\n",
              "      <th>num_day_since_last_active</th>\n",
              "      <th>num_active_last_7d</th>\n",
              "      <th>num_active_last_14d</th>\n",
              "      <th>num_active_last_30d</th>\n",
              "      <th>most_active_hour</th>\n",
              "      <th>num_apply_lending</th>\n",
              "      <th>total_amount_spent</th>\n",
              "      <th>total_amount_spent_last_30d</th>\n",
              "      <th>total_amount_spent_last_60d</th>\n",
              "      <th>...</th>\n",
              "      <th>prob_abnormal_activity</th>\n",
              "      <th>num_select_promotion</th>\n",
              "      <th>num_interest_products</th>\n",
              "      <th>income_spending_ratio</th>\n",
              "      <th>total_tax_amount</th>\n",
              "      <th>monthly_income</th>\n",
              "      <th>total_property_value</th>\n",
              "      <th>monthly_bill_amount</th>\n",
              "      <th>total_annual_bill_amount</th>\n",
              "      <th>num_bill_overdue</th>\n",
              "    </tr>\n",
              "  </thead>\n",
              "  <tbody>\n",
              "    <tr>\n",
              "      <th>0</th>\n",
              "      <td>837</td>\n",
              "      <td>354</td>\n",
              "      <td>252</td>\n",
              "      <td>303</td>\n",
              "      <td>915</td>\n",
              "      <td>3</td>\n",
              "      <td>10</td>\n",
              "      <td>1534419000</td>\n",
              "      <td>258057000</td>\n",
              "      <td>965126000</td>\n",
              "      <td>...</td>\n",
              "      <td>0.94</td>\n",
              "      <td>312</td>\n",
              "      <td>29</td>\n",
              "      <td>0.123289</td>\n",
              "      <td>7665000</td>\n",
              "      <td>900000000</td>\n",
              "      <td>1100000000</td>\n",
              "      <td>43300000</td>\n",
              "      <td>555240000</td>\n",
              "      <td>13</td>\n",
              "    </tr>\n",
              "    <tr>\n",
              "      <th>1</th>\n",
              "      <td>311</td>\n",
              "      <td>72</td>\n",
              "      <td>187</td>\n",
              "      <td>69</td>\n",
              "      <td>1000</td>\n",
              "      <td>3</td>\n",
              "      <td>19</td>\n",
              "      <td>8341801000</td>\n",
              "      <td>388076000</td>\n",
              "      <td>734228000</td>\n",
              "      <td>...</td>\n",
              "      <td>0.46</td>\n",
              "      <td>926</td>\n",
              "      <td>10</td>\n",
              "      <td>0.325329</td>\n",
              "      <td>9071000</td>\n",
              "      <td>615000000</td>\n",
              "      <td>400000000</td>\n",
              "      <td>31600000</td>\n",
              "      <td>289176000</td>\n",
              "      <td>14</td>\n",
              "    </tr>\n",
              "    <tr>\n",
              "      <th>2</th>\n",
              "      <td>849</td>\n",
              "      <td>166</td>\n",
              "      <td>164</td>\n",
              "      <td>226</td>\n",
              "      <td>240</td>\n",
              "      <td>21</td>\n",
              "      <td>15</td>\n",
              "      <td>4350035000</td>\n",
              "      <td>924929000</td>\n",
              "      <td>202899000</td>\n",
              "      <td>...</td>\n",
              "      <td>0.78</td>\n",
              "      <td>583</td>\n",
              "      <td>44</td>\n",
              "      <td>0.633699</td>\n",
              "      <td>7921000</td>\n",
              "      <td>646000000</td>\n",
              "      <td>300000000</td>\n",
              "      <td>49800000</td>\n",
              "      <td>243228000</td>\n",
              "      <td>8</td>\n",
              "    </tr>\n",
              "    <tr>\n",
              "      <th>3</th>\n",
              "      <td>821</td>\n",
              "      <td>37</td>\n",
              "      <td>32</td>\n",
              "      <td>273</td>\n",
              "      <td>630</td>\n",
              "      <td>6</td>\n",
              "      <td>2</td>\n",
              "      <td>8591000</td>\n",
              "      <td>508054000</td>\n",
              "      <td>872911000</td>\n",
              "      <td>...</td>\n",
              "      <td>0.51</td>\n",
              "      <td>985</td>\n",
              "      <td>43</td>\n",
              "      <td>0.068492</td>\n",
              "      <td>5771000</td>\n",
              "      <td>628000000</td>\n",
              "      <td>700000000</td>\n",
              "      <td>30300000</td>\n",
              "      <td>30948000</td>\n",
              "      <td>21</td>\n",
              "    </tr>\n",
              "    <tr>\n",
              "      <th>4</th>\n",
              "      <td>527</td>\n",
              "      <td>15</td>\n",
              "      <td>131</td>\n",
              "      <td>473</td>\n",
              "      <td>680</td>\n",
              "      <td>1</td>\n",
              "      <td>4</td>\n",
              "      <td>1153566000</td>\n",
              "      <td>935648000</td>\n",
              "      <td>153210000</td>\n",
              "      <td>...</td>\n",
              "      <td>0.11</td>\n",
              "      <td>657</td>\n",
              "      <td>12</td>\n",
              "      <td>0.162109</td>\n",
              "      <td>1188000</td>\n",
              "      <td>278000000</td>\n",
              "      <td>1100000000</td>\n",
              "      <td>38800000</td>\n",
              "      <td>458592000</td>\n",
              "      <td>20</td>\n",
              "    </tr>\n",
              "  </tbody>\n",
              "</table>\n",
              "<p>5 rows × 32 columns</p>\n",
              "</div>\n",
              "    <div class=\"colab-df-buttons\">\n",
              "\n",
              "  <div class=\"colab-df-container\">\n",
              "    <button class=\"colab-df-convert\" onclick=\"convertToInteractive('df-1e35ac1a-95c9-4278-96f8-4b3ee9f6358d')\"\n",
              "            title=\"Convert this dataframe to an interactive table.\"\n",
              "            style=\"display:none;\">\n",
              "\n",
              "  <svg xmlns=\"http://www.w3.org/2000/svg\" height=\"24px\" viewBox=\"0 -960 960 960\">\n",
              "    <path d=\"M120-120v-720h720v720H120Zm60-500h600v-160H180v160Zm220 220h160v-160H400v160Zm0 220h160v-160H400v160ZM180-400h160v-160H180v160Zm440 0h160v-160H620v160ZM180-180h160v-160H180v160Zm440 0h160v-160H620v160Z\"/>\n",
              "  </svg>\n",
              "    </button>\n",
              "\n",
              "  <style>\n",
              "    .colab-df-container {\n",
              "      display:flex;\n",
              "      gap: 12px;\n",
              "    }\n",
              "\n",
              "    .colab-df-convert {\n",
              "      background-color: #E8F0FE;\n",
              "      border: none;\n",
              "      border-radius: 50%;\n",
              "      cursor: pointer;\n",
              "      display: none;\n",
              "      fill: #1967D2;\n",
              "      height: 32px;\n",
              "      padding: 0 0 0 0;\n",
              "      width: 32px;\n",
              "    }\n",
              "\n",
              "    .colab-df-convert:hover {\n",
              "      background-color: #E2EBFA;\n",
              "      box-shadow: 0px 1px 2px rgba(60, 64, 67, 0.3), 0px 1px 3px 1px rgba(60, 64, 67, 0.15);\n",
              "      fill: #174EA6;\n",
              "    }\n",
              "\n",
              "    .colab-df-buttons div {\n",
              "      margin-bottom: 4px;\n",
              "    }\n",
              "\n",
              "    [theme=dark] .colab-df-convert {\n",
              "      background-color: #3B4455;\n",
              "      fill: #D2E3FC;\n",
              "    }\n",
              "\n",
              "    [theme=dark] .colab-df-convert:hover {\n",
              "      background-color: #434B5C;\n",
              "      box-shadow: 0px 1px 3px 1px rgba(0, 0, 0, 0.15);\n",
              "      filter: drop-shadow(0px 1px 2px rgba(0, 0, 0, 0.3));\n",
              "      fill: #FFFFFF;\n",
              "    }\n",
              "  </style>\n",
              "\n",
              "    <script>\n",
              "      const buttonEl =\n",
              "        document.querySelector('#df-1e35ac1a-95c9-4278-96f8-4b3ee9f6358d button.colab-df-convert');\n",
              "      buttonEl.style.display =\n",
              "        google.colab.kernel.accessAllowed ? 'block' : 'none';\n",
              "\n",
              "      async function convertToInteractive(key) {\n",
              "        const element = document.querySelector('#df-1e35ac1a-95c9-4278-96f8-4b3ee9f6358d');\n",
              "        const dataTable =\n",
              "          await google.colab.kernel.invokeFunction('convertToInteractive',\n",
              "                                                    [key], {});\n",
              "        if (!dataTable) return;\n",
              "\n",
              "        const docLinkHtml = 'Like what you see? Visit the ' +\n",
              "          '<a target=\"_blank\" href=https://colab.research.google.com/notebooks/data_table.ipynb>data table notebook</a>'\n",
              "          + ' to learn more about interactive tables.';\n",
              "        element.innerHTML = '';\n",
              "        dataTable['output_type'] = 'display_data';\n",
              "        await google.colab.output.renderOutput(dataTable, element);\n",
              "        const docLink = document.createElement('div');\n",
              "        docLink.innerHTML = docLinkHtml;\n",
              "        element.appendChild(docLink);\n",
              "      }\n",
              "    </script>\n",
              "  </div>\n",
              "\n",
              "\n",
              "<div id=\"df-eb1e71c1-4c8d-4573-8fb5-2a772d35c14b\">\n",
              "  <button class=\"colab-df-quickchart\" onclick=\"quickchart('df-eb1e71c1-4c8d-4573-8fb5-2a772d35c14b')\"\n",
              "            title=\"Suggest charts\"\n",
              "            style=\"display:none;\">\n",
              "\n",
              "<svg xmlns=\"http://www.w3.org/2000/svg\" height=\"24px\"viewBox=\"0 0 24 24\"\n",
              "     width=\"24px\">\n",
              "    <g>\n",
              "        <path d=\"M19 3H5c-1.1 0-2 .9-2 2v14c0 1.1.9 2 2 2h14c1.1 0 2-.9 2-2V5c0-1.1-.9-2-2-2zM9 17H7v-7h2v7zm4 0h-2V7h2v10zm4 0h-2v-4h2v4z\"/>\n",
              "    </g>\n",
              "</svg>\n",
              "  </button>\n",
              "\n",
              "<style>\n",
              "  .colab-df-quickchart {\n",
              "      --bg-color: #E8F0FE;\n",
              "      --fill-color: #1967D2;\n",
              "      --hover-bg-color: #E2EBFA;\n",
              "      --hover-fill-color: #174EA6;\n",
              "      --disabled-fill-color: #AAA;\n",
              "      --disabled-bg-color: #DDD;\n",
              "  }\n",
              "\n",
              "  [theme=dark] .colab-df-quickchart {\n",
              "      --bg-color: #3B4455;\n",
              "      --fill-color: #D2E3FC;\n",
              "      --hover-bg-color: #434B5C;\n",
              "      --hover-fill-color: #FFFFFF;\n",
              "      --disabled-bg-color: #3B4455;\n",
              "      --disabled-fill-color: #666;\n",
              "  }\n",
              "\n",
              "  .colab-df-quickchart {\n",
              "    background-color: var(--bg-color);\n",
              "    border: none;\n",
              "    border-radius: 50%;\n",
              "    cursor: pointer;\n",
              "    display: none;\n",
              "    fill: var(--fill-color);\n",
              "    height: 32px;\n",
              "    padding: 0;\n",
              "    width: 32px;\n",
              "  }\n",
              "\n",
              "  .colab-df-quickchart:hover {\n",
              "    background-color: var(--hover-bg-color);\n",
              "    box-shadow: 0 1px 2px rgba(60, 64, 67, 0.3), 0 1px 3px 1px rgba(60, 64, 67, 0.15);\n",
              "    fill: var(--button-hover-fill-color);\n",
              "  }\n",
              "\n",
              "  .colab-df-quickchart-complete:disabled,\n",
              "  .colab-df-quickchart-complete:disabled:hover {\n",
              "    background-color: var(--disabled-bg-color);\n",
              "    fill: var(--disabled-fill-color);\n",
              "    box-shadow: none;\n",
              "  }\n",
              "\n",
              "  .colab-df-spinner {\n",
              "    border: 2px solid var(--fill-color);\n",
              "    border-color: transparent;\n",
              "    border-bottom-color: var(--fill-color);\n",
              "    animation:\n",
              "      spin 1s steps(1) infinite;\n",
              "  }\n",
              "\n",
              "  @keyframes spin {\n",
              "    0% {\n",
              "      border-color: transparent;\n",
              "      border-bottom-color: var(--fill-color);\n",
              "      border-left-color: var(--fill-color);\n",
              "    }\n",
              "    20% {\n",
              "      border-color: transparent;\n",
              "      border-left-color: var(--fill-color);\n",
              "      border-top-color: var(--fill-color);\n",
              "    }\n",
              "    30% {\n",
              "      border-color: transparent;\n",
              "      border-left-color: var(--fill-color);\n",
              "      border-top-color: var(--fill-color);\n",
              "      border-right-color: var(--fill-color);\n",
              "    }\n",
              "    40% {\n",
              "      border-color: transparent;\n",
              "      border-right-color: var(--fill-color);\n",
              "      border-top-color: var(--fill-color);\n",
              "    }\n",
              "    60% {\n",
              "      border-color: transparent;\n",
              "      border-right-color: var(--fill-color);\n",
              "    }\n",
              "    80% {\n",
              "      border-color: transparent;\n",
              "      border-right-color: var(--fill-color);\n",
              "      border-bottom-color: var(--fill-color);\n",
              "    }\n",
              "    90% {\n",
              "      border-color: transparent;\n",
              "      border-bottom-color: var(--fill-color);\n",
              "    }\n",
              "  }\n",
              "</style>\n",
              "\n",
              "  <script>\n",
              "    async function quickchart(key) {\n",
              "      const quickchartButtonEl =\n",
              "        document.querySelector('#' + key + ' button');\n",
              "      quickchartButtonEl.disabled = true;  // To prevent multiple clicks.\n",
              "      quickchartButtonEl.classList.add('colab-df-spinner');\n",
              "      try {\n",
              "        const charts = await google.colab.kernel.invokeFunction(\n",
              "            'suggestCharts', [key], {});\n",
              "      } catch (error) {\n",
              "        console.error('Error during call to suggestCharts:', error);\n",
              "      }\n",
              "      quickchartButtonEl.classList.remove('colab-df-spinner');\n",
              "      quickchartButtonEl.classList.add('colab-df-quickchart-complete');\n",
              "    }\n",
              "    (() => {\n",
              "      let quickchartButtonEl =\n",
              "        document.querySelector('#df-eb1e71c1-4c8d-4573-8fb5-2a772d35c14b button');\n",
              "      quickchartButtonEl.style.display =\n",
              "        google.colab.kernel.accessAllowed ? 'block' : 'none';\n",
              "    })();\n",
              "  </script>\n",
              "</div>\n",
              "\n",
              "    </div>\n",
              "  </div>\n"
            ],
            "application/vnd.google.colaboratory.intrinsic+json": {
              "type": "dataframe",
              "variable_name": "feature"
            }
          },
          "metadata": {},
          "execution_count": 36
        }
      ]
    },
    {
      "cell_type": "code",
      "source": [
        "X = feature\n",
        "y = df['credit_label']"
      ],
      "metadata": {
        "id": "0LiZ4LOMUsQ3"
      },
      "execution_count": 37,
      "outputs": []
    },
    {
      "cell_type": "markdown",
      "source": [
        "# 2. Train/Test Split"
      ],
      "metadata": {
        "id": "ebciJY_W5uBt"
      }
    },
    {
      "cell_type": "code",
      "source": [
        "X_train, X_test, y_train, y_test = train_test_split(X,y,test_size=0.3)"
      ],
      "metadata": {
        "id": "MQtx-xI-UyWq"
      },
      "execution_count": 41,
      "outputs": []
    },
    {
      "cell_type": "markdown",
      "source": [
        "# 3. Training Model\n",
        "\n",
        "Ta sẽ thử các thuật toán **Logistic Regression, Ramdom Forest và Decision Tree**"
      ],
      "metadata": {
        "id": "jffoUD706EC1"
      }
    },
    {
      "cell_type": "code",
      "source": [
        "from sklearn.linear_model import LogisticRegression\n",
        "log_reg_model = LogisticRegression(m)\n",
        "log_reg_model.fit(X_train, y_train)"
      ],
      "metadata": {
        "colab": {
          "base_uri": "https://localhost:8080/",
          "height": 74
        },
        "id": "UvkBPzIZ5peR",
        "outputId": "ea4ed608-5df8-4b5e-99af-993d54200a2c"
      },
      "execution_count": 45,
      "outputs": [
        {
          "output_type": "execute_result",
          "data": {
            "text/plain": [
              "LogisticRegression(max_iter=1000)"
            ],
            "text/html": [
              "<style>#sk-container-id-2 {color: black;background-color: white;}#sk-container-id-2 pre{padding: 0;}#sk-container-id-2 div.sk-toggleable {background-color: white;}#sk-container-id-2 label.sk-toggleable__label {cursor: pointer;display: block;width: 100%;margin-bottom: 0;padding: 0.3em;box-sizing: border-box;text-align: center;}#sk-container-id-2 label.sk-toggleable__label-arrow:before {content: \"▸\";float: left;margin-right: 0.25em;color: #696969;}#sk-container-id-2 label.sk-toggleable__label-arrow:hover:before {color: black;}#sk-container-id-2 div.sk-estimator:hover label.sk-toggleable__label-arrow:before {color: black;}#sk-container-id-2 div.sk-toggleable__content {max-height: 0;max-width: 0;overflow: hidden;text-align: left;background-color: #f0f8ff;}#sk-container-id-2 div.sk-toggleable__content pre {margin: 0.2em;color: black;border-radius: 0.25em;background-color: #f0f8ff;}#sk-container-id-2 input.sk-toggleable__control:checked~div.sk-toggleable__content {max-height: 200px;max-width: 100%;overflow: auto;}#sk-container-id-2 input.sk-toggleable__control:checked~label.sk-toggleable__label-arrow:before {content: \"▾\";}#sk-container-id-2 div.sk-estimator input.sk-toggleable__control:checked~label.sk-toggleable__label {background-color: #d4ebff;}#sk-container-id-2 div.sk-label input.sk-toggleable__control:checked~label.sk-toggleable__label {background-color: #d4ebff;}#sk-container-id-2 input.sk-hidden--visually {border: 0;clip: rect(1px 1px 1px 1px);clip: rect(1px, 1px, 1px, 1px);height: 1px;margin: -1px;overflow: hidden;padding: 0;position: absolute;width: 1px;}#sk-container-id-2 div.sk-estimator {font-family: monospace;background-color: #f0f8ff;border: 1px dotted black;border-radius: 0.25em;box-sizing: border-box;margin-bottom: 0.5em;}#sk-container-id-2 div.sk-estimator:hover {background-color: #d4ebff;}#sk-container-id-2 div.sk-parallel-item::after {content: \"\";width: 100%;border-bottom: 1px solid gray;flex-grow: 1;}#sk-container-id-2 div.sk-label:hover label.sk-toggleable__label {background-color: #d4ebff;}#sk-container-id-2 div.sk-serial::before {content: \"\";position: absolute;border-left: 1px solid gray;box-sizing: border-box;top: 0;bottom: 0;left: 50%;z-index: 0;}#sk-container-id-2 div.sk-serial {display: flex;flex-direction: column;align-items: center;background-color: white;padding-right: 0.2em;padding-left: 0.2em;position: relative;}#sk-container-id-2 div.sk-item {position: relative;z-index: 1;}#sk-container-id-2 div.sk-parallel {display: flex;align-items: stretch;justify-content: center;background-color: white;position: relative;}#sk-container-id-2 div.sk-item::before, #sk-container-id-2 div.sk-parallel-item::before {content: \"\";position: absolute;border-left: 1px solid gray;box-sizing: border-box;top: 0;bottom: 0;left: 50%;z-index: -1;}#sk-container-id-2 div.sk-parallel-item {display: flex;flex-direction: column;z-index: 1;position: relative;background-color: white;}#sk-container-id-2 div.sk-parallel-item:first-child::after {align-self: flex-end;width: 50%;}#sk-container-id-2 div.sk-parallel-item:last-child::after {align-self: flex-start;width: 50%;}#sk-container-id-2 div.sk-parallel-item:only-child::after {width: 0;}#sk-container-id-2 div.sk-dashed-wrapped {border: 1px dashed gray;margin: 0 0.4em 0.5em 0.4em;box-sizing: border-box;padding-bottom: 0.4em;background-color: white;}#sk-container-id-2 div.sk-label label {font-family: monospace;font-weight: bold;display: inline-block;line-height: 1.2em;}#sk-container-id-2 div.sk-label-container {text-align: center;}#sk-container-id-2 div.sk-container {/* jupyter's `normalize.less` sets `[hidden] { display: none; }` but bootstrap.min.css set `[hidden] { display: none !important; }` so we also need the `!important` here to be able to override the default hidden behavior on the sphinx rendered scikit-learn.org. See: https://github.com/scikit-learn/scikit-learn/issues/21755 */display: inline-block !important;position: relative;}#sk-container-id-2 div.sk-text-repr-fallback {display: none;}</style><div id=\"sk-container-id-2\" class=\"sk-top-container\"><div class=\"sk-text-repr-fallback\"><pre>LogisticRegression(max_iter=1000)</pre><b>In a Jupyter environment, please rerun this cell to show the HTML representation or trust the notebook. <br />On GitHub, the HTML representation is unable to render, please try loading this page with nbviewer.org.</b></div><div class=\"sk-container\" hidden><div class=\"sk-item\"><div class=\"sk-estimator sk-toggleable\"><input class=\"sk-toggleable__control sk-hidden--visually\" id=\"sk-estimator-id-2\" type=\"checkbox\" checked><label for=\"sk-estimator-id-2\" class=\"sk-toggleable__label sk-toggleable__label-arrow\">LogisticRegression</label><div class=\"sk-toggleable__content\"><pre>LogisticRegression(max_iter=1000)</pre></div></div></div></div></div>"
            ]
          },
          "metadata": {},
          "execution_count": 45
        }
      ]
    },
    {
      "cell_type": "code",
      "source": [
        "from sklearn.tree import DecisionTreeClassifier\n",
        "decision_tree_model = DecisionTreeClassifier()\n",
        "decision_tree_model.fit(X_train, y_train)"
      ],
      "metadata": {
        "colab": {
          "base_uri": "https://localhost:8080/",
          "height": 74
        },
        "id": "NEYzQhhk9Djl",
        "outputId": "13d2a711-ada4-48f3-db6e-19dbdf772fbb"
      },
      "execution_count": 46,
      "outputs": [
        {
          "output_type": "execute_result",
          "data": {
            "text/plain": [
              "DecisionTreeClassifier()"
            ],
            "text/html": [
              "<style>#sk-container-id-3 {color: black;background-color: white;}#sk-container-id-3 pre{padding: 0;}#sk-container-id-3 div.sk-toggleable {background-color: white;}#sk-container-id-3 label.sk-toggleable__label {cursor: pointer;display: block;width: 100%;margin-bottom: 0;padding: 0.3em;box-sizing: border-box;text-align: center;}#sk-container-id-3 label.sk-toggleable__label-arrow:before {content: \"▸\";float: left;margin-right: 0.25em;color: #696969;}#sk-container-id-3 label.sk-toggleable__label-arrow:hover:before {color: black;}#sk-container-id-3 div.sk-estimator:hover label.sk-toggleable__label-arrow:before {color: black;}#sk-container-id-3 div.sk-toggleable__content {max-height: 0;max-width: 0;overflow: hidden;text-align: left;background-color: #f0f8ff;}#sk-container-id-3 div.sk-toggleable__content pre {margin: 0.2em;color: black;border-radius: 0.25em;background-color: #f0f8ff;}#sk-container-id-3 input.sk-toggleable__control:checked~div.sk-toggleable__content {max-height: 200px;max-width: 100%;overflow: auto;}#sk-container-id-3 input.sk-toggleable__control:checked~label.sk-toggleable__label-arrow:before {content: \"▾\";}#sk-container-id-3 div.sk-estimator input.sk-toggleable__control:checked~label.sk-toggleable__label {background-color: #d4ebff;}#sk-container-id-3 div.sk-label input.sk-toggleable__control:checked~label.sk-toggleable__label {background-color: #d4ebff;}#sk-container-id-3 input.sk-hidden--visually {border: 0;clip: rect(1px 1px 1px 1px);clip: rect(1px, 1px, 1px, 1px);height: 1px;margin: -1px;overflow: hidden;padding: 0;position: absolute;width: 1px;}#sk-container-id-3 div.sk-estimator {font-family: monospace;background-color: #f0f8ff;border: 1px dotted black;border-radius: 0.25em;box-sizing: border-box;margin-bottom: 0.5em;}#sk-container-id-3 div.sk-estimator:hover {background-color: #d4ebff;}#sk-container-id-3 div.sk-parallel-item::after {content: \"\";width: 100%;border-bottom: 1px solid gray;flex-grow: 1;}#sk-container-id-3 div.sk-label:hover label.sk-toggleable__label {background-color: #d4ebff;}#sk-container-id-3 div.sk-serial::before {content: \"\";position: absolute;border-left: 1px solid gray;box-sizing: border-box;top: 0;bottom: 0;left: 50%;z-index: 0;}#sk-container-id-3 div.sk-serial {display: flex;flex-direction: column;align-items: center;background-color: white;padding-right: 0.2em;padding-left: 0.2em;position: relative;}#sk-container-id-3 div.sk-item {position: relative;z-index: 1;}#sk-container-id-3 div.sk-parallel {display: flex;align-items: stretch;justify-content: center;background-color: white;position: relative;}#sk-container-id-3 div.sk-item::before, #sk-container-id-3 div.sk-parallel-item::before {content: \"\";position: absolute;border-left: 1px solid gray;box-sizing: border-box;top: 0;bottom: 0;left: 50%;z-index: -1;}#sk-container-id-3 div.sk-parallel-item {display: flex;flex-direction: column;z-index: 1;position: relative;background-color: white;}#sk-container-id-3 div.sk-parallel-item:first-child::after {align-self: flex-end;width: 50%;}#sk-container-id-3 div.sk-parallel-item:last-child::after {align-self: flex-start;width: 50%;}#sk-container-id-3 div.sk-parallel-item:only-child::after {width: 0;}#sk-container-id-3 div.sk-dashed-wrapped {border: 1px dashed gray;margin: 0 0.4em 0.5em 0.4em;box-sizing: border-box;padding-bottom: 0.4em;background-color: white;}#sk-container-id-3 div.sk-label label {font-family: monospace;font-weight: bold;display: inline-block;line-height: 1.2em;}#sk-container-id-3 div.sk-label-container {text-align: center;}#sk-container-id-3 div.sk-container {/* jupyter's `normalize.less` sets `[hidden] { display: none; }` but bootstrap.min.css set `[hidden] { display: none !important; }` so we also need the `!important` here to be able to override the default hidden behavior on the sphinx rendered scikit-learn.org. See: https://github.com/scikit-learn/scikit-learn/issues/21755 */display: inline-block !important;position: relative;}#sk-container-id-3 div.sk-text-repr-fallback {display: none;}</style><div id=\"sk-container-id-3\" class=\"sk-top-container\"><div class=\"sk-text-repr-fallback\"><pre>DecisionTreeClassifier()</pre><b>In a Jupyter environment, please rerun this cell to show the HTML representation or trust the notebook. <br />On GitHub, the HTML representation is unable to render, please try loading this page with nbviewer.org.</b></div><div class=\"sk-container\" hidden><div class=\"sk-item\"><div class=\"sk-estimator sk-toggleable\"><input class=\"sk-toggleable__control sk-hidden--visually\" id=\"sk-estimator-id-3\" type=\"checkbox\" checked><label for=\"sk-estimator-id-3\" class=\"sk-toggleable__label sk-toggleable__label-arrow\">DecisionTreeClassifier</label><div class=\"sk-toggleable__content\"><pre>DecisionTreeClassifier()</pre></div></div></div></div></div>"
            ]
          },
          "metadata": {},
          "execution_count": 46
        }
      ]
    },
    {
      "cell_type": "code",
      "source": [
        "from sklearn.ensemble import RandomForestClassifier\n",
        "random_forest_model = RandomForestClassifier()\n",
        "random_forest_model.fit(X_train, y_train)"
      ],
      "metadata": {
        "colab": {
          "base_uri": "https://localhost:8080/",
          "height": 74
        },
        "id": "HFC6zo0e79AK",
        "outputId": "467b7e10-190b-4618-adba-7560cd964834"
      },
      "execution_count": 47,
      "outputs": [
        {
          "output_type": "execute_result",
          "data": {
            "text/plain": [
              "RandomForestClassifier()"
            ],
            "text/html": [
              "<style>#sk-container-id-4 {color: black;background-color: white;}#sk-container-id-4 pre{padding: 0;}#sk-container-id-4 div.sk-toggleable {background-color: white;}#sk-container-id-4 label.sk-toggleable__label {cursor: pointer;display: block;width: 100%;margin-bottom: 0;padding: 0.3em;box-sizing: border-box;text-align: center;}#sk-container-id-4 label.sk-toggleable__label-arrow:before {content: \"▸\";float: left;margin-right: 0.25em;color: #696969;}#sk-container-id-4 label.sk-toggleable__label-arrow:hover:before {color: black;}#sk-container-id-4 div.sk-estimator:hover label.sk-toggleable__label-arrow:before {color: black;}#sk-container-id-4 div.sk-toggleable__content {max-height: 0;max-width: 0;overflow: hidden;text-align: left;background-color: #f0f8ff;}#sk-container-id-4 div.sk-toggleable__content pre {margin: 0.2em;color: black;border-radius: 0.25em;background-color: #f0f8ff;}#sk-container-id-4 input.sk-toggleable__control:checked~div.sk-toggleable__content {max-height: 200px;max-width: 100%;overflow: auto;}#sk-container-id-4 input.sk-toggleable__control:checked~label.sk-toggleable__label-arrow:before {content: \"▾\";}#sk-container-id-4 div.sk-estimator input.sk-toggleable__control:checked~label.sk-toggleable__label {background-color: #d4ebff;}#sk-container-id-4 div.sk-label input.sk-toggleable__control:checked~label.sk-toggleable__label {background-color: #d4ebff;}#sk-container-id-4 input.sk-hidden--visually {border: 0;clip: rect(1px 1px 1px 1px);clip: rect(1px, 1px, 1px, 1px);height: 1px;margin: -1px;overflow: hidden;padding: 0;position: absolute;width: 1px;}#sk-container-id-4 div.sk-estimator {font-family: monospace;background-color: #f0f8ff;border: 1px dotted black;border-radius: 0.25em;box-sizing: border-box;margin-bottom: 0.5em;}#sk-container-id-4 div.sk-estimator:hover {background-color: #d4ebff;}#sk-container-id-4 div.sk-parallel-item::after {content: \"\";width: 100%;border-bottom: 1px solid gray;flex-grow: 1;}#sk-container-id-4 div.sk-label:hover label.sk-toggleable__label {background-color: #d4ebff;}#sk-container-id-4 div.sk-serial::before {content: \"\";position: absolute;border-left: 1px solid gray;box-sizing: border-box;top: 0;bottom: 0;left: 50%;z-index: 0;}#sk-container-id-4 div.sk-serial {display: flex;flex-direction: column;align-items: center;background-color: white;padding-right: 0.2em;padding-left: 0.2em;position: relative;}#sk-container-id-4 div.sk-item {position: relative;z-index: 1;}#sk-container-id-4 div.sk-parallel {display: flex;align-items: stretch;justify-content: center;background-color: white;position: relative;}#sk-container-id-4 div.sk-item::before, #sk-container-id-4 div.sk-parallel-item::before {content: \"\";position: absolute;border-left: 1px solid gray;box-sizing: border-box;top: 0;bottom: 0;left: 50%;z-index: -1;}#sk-container-id-4 div.sk-parallel-item {display: flex;flex-direction: column;z-index: 1;position: relative;background-color: white;}#sk-container-id-4 div.sk-parallel-item:first-child::after {align-self: flex-end;width: 50%;}#sk-container-id-4 div.sk-parallel-item:last-child::after {align-self: flex-start;width: 50%;}#sk-container-id-4 div.sk-parallel-item:only-child::after {width: 0;}#sk-container-id-4 div.sk-dashed-wrapped {border: 1px dashed gray;margin: 0 0.4em 0.5em 0.4em;box-sizing: border-box;padding-bottom: 0.4em;background-color: white;}#sk-container-id-4 div.sk-label label {font-family: monospace;font-weight: bold;display: inline-block;line-height: 1.2em;}#sk-container-id-4 div.sk-label-container {text-align: center;}#sk-container-id-4 div.sk-container {/* jupyter's `normalize.less` sets `[hidden] { display: none; }` but bootstrap.min.css set `[hidden] { display: none !important; }` so we also need the `!important` here to be able to override the default hidden behavior on the sphinx rendered scikit-learn.org. See: https://github.com/scikit-learn/scikit-learn/issues/21755 */display: inline-block !important;position: relative;}#sk-container-id-4 div.sk-text-repr-fallback {display: none;}</style><div id=\"sk-container-id-4\" class=\"sk-top-container\"><div class=\"sk-text-repr-fallback\"><pre>RandomForestClassifier()</pre><b>In a Jupyter environment, please rerun this cell to show the HTML representation or trust the notebook. <br />On GitHub, the HTML representation is unable to render, please try loading this page with nbviewer.org.</b></div><div class=\"sk-container\" hidden><div class=\"sk-item\"><div class=\"sk-estimator sk-toggleable\"><input class=\"sk-toggleable__control sk-hidden--visually\" id=\"sk-estimator-id-4\" type=\"checkbox\" checked><label for=\"sk-estimator-id-4\" class=\"sk-toggleable__label sk-toggleable__label-arrow\">RandomForestClassifier</label><div class=\"sk-toggleable__content\"><pre>RandomForestClassifier()</pre></div></div></div></div></div>"
            ]
          },
          "metadata": {},
          "execution_count": 47
        }
      ]
    },
    {
      "cell_type": "markdown",
      "source": [
        "# 4. Evaluate Model"
      ],
      "metadata": {
        "id": "HXMLaksI9Keu"
      }
    },
    {
      "cell_type": "code",
      "source": [
        "from sklearn.metrics import classification_report\n",
        "y_predict_logreg_model = log_reg_model.predict(X_test)\n",
        "y_predict_decision_tree = decision_tree_model.predict(X_test)\n",
        "y_predict_random_forest = random_forest_model.predict(X_test)"
      ],
      "metadata": {
        "id": "KxzcLoeJ9GF5"
      },
      "execution_count": 52,
      "outputs": []
    },
    {
      "cell_type": "code",
      "source": [
        "print(classification_report(y_test, y_predict_logreg_model))"
      ],
      "metadata": {
        "colab": {
          "base_uri": "https://localhost:8080/"
        },
        "id": "3UpaUXNs9twi",
        "outputId": "6954b0ef-3193-4371-ba3d-13c5271e0d9a"
      },
      "execution_count": 53,
      "outputs": [
        {
          "output_type": "stream",
          "name": "stdout",
          "text": [
            "              precision    recall  f1-score   support\n",
            "\n",
            "         Bad       0.74      0.63      0.68        62\n",
            "        Good       0.98      0.99      0.99      1438\n",
            "\n",
            "    accuracy                           0.98      1500\n",
            "   macro avg       0.86      0.81      0.83      1500\n",
            "weighted avg       0.97      0.98      0.97      1500\n",
            "\n"
          ]
        }
      ]
    },
    {
      "cell_type": "code",
      "source": [
        "print(classification_report(y_test, y_predict_decision_tree))"
      ],
      "metadata": {
        "colab": {
          "base_uri": "https://localhost:8080/"
        },
        "id": "6b2GaAL6-VvE",
        "outputId": "15b92a88-3e12-42ef-97e4-6a1f30bc0f9a"
      },
      "execution_count": 54,
      "outputs": [
        {
          "output_type": "stream",
          "name": "stdout",
          "text": [
            "              precision    recall  f1-score   support\n",
            "\n",
            "         Bad       0.51      0.58      0.54        62\n",
            "        Good       0.98      0.98      0.98      1438\n",
            "\n",
            "    accuracy                           0.96      1500\n",
            "   macro avg       0.74      0.78      0.76      1500\n",
            "weighted avg       0.96      0.96      0.96      1500\n",
            "\n"
          ]
        }
      ]
    },
    {
      "cell_type": "code",
      "source": [
        "print(classification_report(y_test, y_predict_random_forest))"
      ],
      "metadata": {
        "colab": {
          "base_uri": "https://localhost:8080/"
        },
        "id": "ie4kAckg-gh_",
        "outputId": "102e3e11-5b51-41c1-9d99-c43f3c6af13b"
      },
      "execution_count": 55,
      "outputs": [
        {
          "output_type": "stream",
          "name": "stdout",
          "text": [
            "              precision    recall  f1-score   support\n",
            "\n",
            "         Bad       0.86      0.61      0.72        62\n",
            "        Good       0.98      1.00      0.99      1438\n",
            "\n",
            "    accuracy                           0.98      1500\n",
            "   macro avg       0.92      0.80      0.85      1500\n",
            "weighted avg       0.98      0.98      0.98      1500\n",
            "\n"
          ]
        }
      ]
    },
    {
      "cell_type": "code",
      "source": [],
      "metadata": {
        "id": "mSWyfa3RBPB2"
      },
      "execution_count": null,
      "outputs": []
    }
  ]
}